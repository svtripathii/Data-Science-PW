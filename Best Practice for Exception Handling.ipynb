{
 "cells": [
  {
   "cell_type": "code",
   "execution_count": 1,
   "metadata": {},
   "outputs": [
    {
     "name": "stdout",
     "output_type": "stream",
     "text": [
      "division by zero\n"
     ]
    }
   ],
   "source": [
    "try: \n",
    "    10/0\n",
    "\n",
    "except Exception as e: \n",
    "    print(e)"
   ]
  },
  {
   "cell_type": "code",
   "execution_count": 2,
   "metadata": {},
   "outputs": [
    {
     "name": "stdout",
     "output_type": "stream",
     "text": [
      "division by zero\n"
     ]
    }
   ],
   "source": [
    "try: \n",
    "    10/0\n",
    "\n",
    "except ZeroDivisionError as e: \n",
    "    print(e)\n",
    "\n",
    "#use specific one "
   ]
  },
  {
   "cell_type": "code",
   "execution_count": 1,
   "metadata": {},
   "outputs": [
    {
     "name": "stdout",
     "output_type": "stream",
     "text": [
      "I'm trying to handle a zero division error division by zero\n"
     ]
    }
   ],
   "source": [
    "#print always a proper mesg\n",
    "\n",
    "try: \n",
    "    10/0\n",
    "\n",
    "except ZeroDivisionError as e: \n",
    "    print(\"I'm trying to handle a zero division error\",e)"
   ]
  },
  {
   "cell_type": "code",
   "execution_count": 2,
   "metadata": {},
   "outputs": [],
   "source": [
    "#always try to log your error \n",
    "\n",
    "import logging \n",
    "logging.basicConfig(filename= \"error.log\", level= logging.ERROR)\n",
    "try:\n",
    "    10/0\n",
    "\n",
    "except ZeroDivisionError as e: \n",
    "    logging.error(\"I'm trying to handle a zerodivision error {}\".format(e))"
   ]
  },
  {
   "cell_type": "code",
   "execution_count": 4,
   "metadata": {},
   "outputs": [],
   "source": [
    "#always avoid to write a multiple exception handling \n",
    "\n",
    "try: \n",
    "    10/0\n",
    "except FileNotFoundError as e:\n",
    "    logging.error(\"I'm trying to handle file not found {}\".format(e))\n",
    "\n",
    "except AttributeError as e: \n",
    "    logging.error(\"I'm trying to handle Atrribute Error {}\".format(e))\n",
    "\n",
    "except ZeroDivisionError as e:\n",
    "    logging.error(\"I'm trying to handle a zerodivision error {}\".format(e))"
   ]
  },
  {
   "cell_type": "code",
   "execution_count": 1,
   "metadata": {},
   "outputs": [],
   "source": [
    "#Document all the error\n",
    "#Clean up all the resources\n",
    "try: \n",
    "    with open(\"test.txt\", 'w') as f:\n",
    "        f.write(\"this is my data to file\")\n",
    "except ZeroDivisionError as e:\n",
    "    logging.error(\"I'm trying to handle a zerodivision error {}\".format(e))\n",
    "finally: \n",
    "    f.close()"
   ]
  }
 ],
 "metadata": {
  "kernelspec": {
   "display_name": "Python 3",
   "language": "python",
   "name": "python3"
  },
  "language_info": {
   "codemirror_mode": {
    "name": "ipython",
    "version": 3
   },
   "file_extension": ".py",
   "mimetype": "text/x-python",
   "name": "python",
   "nbconvert_exporter": "python",
   "pygments_lexer": "ipython3",
   "version": "3.11.8"
  }
 },
 "nbformat": 4,
 "nbformat_minor": 2
}
