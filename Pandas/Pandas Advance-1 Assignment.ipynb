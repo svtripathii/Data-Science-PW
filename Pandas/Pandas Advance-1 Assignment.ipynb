{
 "cells": [
  {
   "cell_type": "markdown",
   "id": "b07d5f0e-6427-4526-af55-8c0908a7d0e2",
   "metadata": {},
   "source": [
    "## Q1. List any five functions of the pandas library with execution."
   ]
  },
  {
   "cell_type": "markdown",
   "id": "bb3b959b-02d4-4732-b2b4-00e39cf28c94",
   "metadata": {},
   "source": [
    "1. read_csv()\n",
    "\n",
    "Reads a CSV file into a DataFrame."
   ]
  },
  {
   "cell_type": "code",
   "execution_count": 1,
   "id": "f3655295-d993-4fbc-a349-86d148ad8850",
   "metadata": {},
   "outputs": [
    {
     "name": "stdout",
     "output_type": "stream",
     "text": [
      "    Name   Age       City\n",
      "0   John    28   New York\n",
      "1   Anna    22     London\n",
      "2  Peter    34     Berlin\n"
     ]
    }
   ],
   "source": [
    "import pandas as pd\n",
    "\n",
    "# Example CSV content\n",
    "csv_content = \"\"\"Name, Age, City\n",
    "John, 28, New York\n",
    "Anna, 22, London\n",
    "Peter, 34, Berlin\n",
    "\"\"\"\n",
    "\n",
    "# Writing the CSV content to a file for demonstration\n",
    "with open('example.csv', 'w') as file:\n",
    "    file.write(csv_content)\n",
    "\n",
    "# Reading the CSV file into a DataFrame\n",
    "df = pd.read_csv('example.csv')\n",
    "print(df)\n"
   ]
  },
  {
   "cell_type": "markdown",
   "id": "6a49c44e-f352-4cc8-adbb-7fabba654423",
   "metadata": {},
   "source": [
    "2. head()\n",
    "\n",
    "Returns the first n rows of a DataFrame."
   ]
  },
  {
   "cell_type": "code",
   "execution_count": 2,
   "id": "ded5e187-db80-4de4-be7d-41a74370dfac",
   "metadata": {},
   "outputs": [
    {
     "name": "stdout",
     "output_type": "stream",
     "text": [
      "   Name   Age       City\n",
      "0  John    28   New York\n",
      "1  Anna    22     London\n"
     ]
    }
   ],
   "source": [
    "# Display the first 2 rows of the DataFrame\n",
    "print(df.head(2))\n"
   ]
  },
  {
   "cell_type": "markdown",
   "id": "9e4d930d-05d9-401c-a481-864b1dd285e0",
   "metadata": {},
   "source": [
    "3. describe()\n",
    "\n",
    "Generates descriptive statistics of a DataFrame."
   ]
  },
  {
   "cell_type": "code",
   "execution_count": 3,
   "id": "03c8cd54-f36b-4725-8f65-1d775b9aca45",
   "metadata": {},
   "outputs": [
    {
     "name": "stdout",
     "output_type": "stream",
     "text": [
      "        Age\n",
      "count   3.0\n",
      "mean   28.0\n",
      "std     6.0\n",
      "min    22.0\n",
      "25%    25.0\n",
      "50%    28.0\n",
      "75%    31.0\n",
      "max    34.0\n"
     ]
    }
   ],
   "source": [
    "# Generate descriptive statistics\n",
    "print(df.describe())\n"
   ]
  },
  {
   "cell_type": "markdown",
   "id": "2acc9479-2f13-48a7-b8f8-5ba88692a00d",
   "metadata": {},
   "source": [
    "groupby()\n",
    "\n",
    "Groups the DataFrame using a specified column."
   ]
  },
  {
   "cell_type": "code",
   "execution_count": 4,
   "id": "4fc5f56d-6ddd-477c-8423-0fab26327cfa",
   "metadata": {},
   "outputs": [
    {
     "ename": "KeyError",
     "evalue": "'City'",
     "output_type": "error",
     "traceback": [
      "\u001b[1;31m---------------------------------------------------------------------------\u001b[0m",
      "\u001b[1;31mKeyError\u001b[0m                                  Traceback (most recent call last)",
      "Cell \u001b[1;32mIn[4], line 2\u001b[0m\n\u001b[0;32m      1\u001b[0m \u001b[38;5;66;03m# Group by 'City' and calculate the mean age\u001b[39;00m\n\u001b[1;32m----> 2\u001b[0m grouped_df \u001b[38;5;241m=\u001b[39m df\u001b[38;5;241m.\u001b[39mgroupby(\u001b[38;5;124m'\u001b[39m\u001b[38;5;124mCity\u001b[39m\u001b[38;5;124m'\u001b[39m)[\u001b[38;5;124m'\u001b[39m\u001b[38;5;124mAge\u001b[39m\u001b[38;5;124m'\u001b[39m]\u001b[38;5;241m.\u001b[39mmean()\n\u001b[0;32m      3\u001b[0m \u001b[38;5;28mprint\u001b[39m(grouped_df)\n",
      "File \u001b[1;32m~\\anaconda3\\Lib\\site-packages\\pandas\\core\\frame.py:8869\u001b[0m, in \u001b[0;36mDataFrame.groupby\u001b[1;34m(self, by, axis, level, as_index, sort, group_keys, observed, dropna)\u001b[0m\n\u001b[0;32m   8866\u001b[0m \u001b[38;5;28;01mif\u001b[39;00m level \u001b[38;5;129;01mis\u001b[39;00m \u001b[38;5;28;01mNone\u001b[39;00m \u001b[38;5;129;01mand\u001b[39;00m by \u001b[38;5;129;01mis\u001b[39;00m \u001b[38;5;28;01mNone\u001b[39;00m:\n\u001b[0;32m   8867\u001b[0m     \u001b[38;5;28;01mraise\u001b[39;00m \u001b[38;5;167;01mTypeError\u001b[39;00m(\u001b[38;5;124m\"\u001b[39m\u001b[38;5;124mYou have to supply one of \u001b[39m\u001b[38;5;124m'\u001b[39m\u001b[38;5;124mby\u001b[39m\u001b[38;5;124m'\u001b[39m\u001b[38;5;124m and \u001b[39m\u001b[38;5;124m'\u001b[39m\u001b[38;5;124mlevel\u001b[39m\u001b[38;5;124m'\u001b[39m\u001b[38;5;124m\"\u001b[39m)\n\u001b[1;32m-> 8869\u001b[0m \u001b[38;5;28;01mreturn\u001b[39;00m DataFrameGroupBy(\n\u001b[0;32m   8870\u001b[0m     obj\u001b[38;5;241m=\u001b[39m\u001b[38;5;28mself\u001b[39m,\n\u001b[0;32m   8871\u001b[0m     keys\u001b[38;5;241m=\u001b[39mby,\n\u001b[0;32m   8872\u001b[0m     axis\u001b[38;5;241m=\u001b[39maxis,\n\u001b[0;32m   8873\u001b[0m     level\u001b[38;5;241m=\u001b[39mlevel,\n\u001b[0;32m   8874\u001b[0m     as_index\u001b[38;5;241m=\u001b[39mas_index,\n\u001b[0;32m   8875\u001b[0m     sort\u001b[38;5;241m=\u001b[39msort,\n\u001b[0;32m   8876\u001b[0m     group_keys\u001b[38;5;241m=\u001b[39mgroup_keys,\n\u001b[0;32m   8877\u001b[0m     observed\u001b[38;5;241m=\u001b[39mobserved,\n\u001b[0;32m   8878\u001b[0m     dropna\u001b[38;5;241m=\u001b[39mdropna,\n\u001b[0;32m   8879\u001b[0m )\n",
      "File \u001b[1;32m~\\anaconda3\\Lib\\site-packages\\pandas\\core\\groupby\\groupby.py:1278\u001b[0m, in \u001b[0;36mGroupBy.__init__\u001b[1;34m(self, obj, keys, axis, level, grouper, exclusions, selection, as_index, sort, group_keys, observed, dropna)\u001b[0m\n\u001b[0;32m   1275\u001b[0m \u001b[38;5;28mself\u001b[39m\u001b[38;5;241m.\u001b[39mdropna \u001b[38;5;241m=\u001b[39m dropna\n\u001b[0;32m   1277\u001b[0m \u001b[38;5;28;01mif\u001b[39;00m grouper \u001b[38;5;129;01mis\u001b[39;00m \u001b[38;5;28;01mNone\u001b[39;00m:\n\u001b[1;32m-> 1278\u001b[0m     grouper, exclusions, obj \u001b[38;5;241m=\u001b[39m get_grouper(\n\u001b[0;32m   1279\u001b[0m         obj,\n\u001b[0;32m   1280\u001b[0m         keys,\n\u001b[0;32m   1281\u001b[0m         axis\u001b[38;5;241m=\u001b[39maxis,\n\u001b[0;32m   1282\u001b[0m         level\u001b[38;5;241m=\u001b[39mlevel,\n\u001b[0;32m   1283\u001b[0m         sort\u001b[38;5;241m=\u001b[39msort,\n\u001b[0;32m   1284\u001b[0m         observed\u001b[38;5;241m=\u001b[39m\u001b[38;5;28;01mFalse\u001b[39;00m \u001b[38;5;28;01mif\u001b[39;00m observed \u001b[38;5;129;01mis\u001b[39;00m lib\u001b[38;5;241m.\u001b[39mno_default \u001b[38;5;28;01melse\u001b[39;00m observed,\n\u001b[0;32m   1285\u001b[0m         dropna\u001b[38;5;241m=\u001b[39m\u001b[38;5;28mself\u001b[39m\u001b[38;5;241m.\u001b[39mdropna,\n\u001b[0;32m   1286\u001b[0m     )\n\u001b[0;32m   1288\u001b[0m \u001b[38;5;28;01mif\u001b[39;00m observed \u001b[38;5;129;01mis\u001b[39;00m lib\u001b[38;5;241m.\u001b[39mno_default:\n\u001b[0;32m   1289\u001b[0m     \u001b[38;5;28;01mif\u001b[39;00m \u001b[38;5;28many\u001b[39m(ping\u001b[38;5;241m.\u001b[39m_passed_categorical \u001b[38;5;28;01mfor\u001b[39;00m ping \u001b[38;5;129;01min\u001b[39;00m grouper\u001b[38;5;241m.\u001b[39mgroupings):\n",
      "File \u001b[1;32m~\\anaconda3\\Lib\\site-packages\\pandas\\core\\groupby\\grouper.py:1009\u001b[0m, in \u001b[0;36mget_grouper\u001b[1;34m(obj, key, axis, level, sort, observed, validate, dropna)\u001b[0m\n\u001b[0;32m   1007\u001b[0m         in_axis, level, gpr \u001b[38;5;241m=\u001b[39m \u001b[38;5;28;01mFalse\u001b[39;00m, gpr, \u001b[38;5;28;01mNone\u001b[39;00m\n\u001b[0;32m   1008\u001b[0m     \u001b[38;5;28;01melse\u001b[39;00m:\n\u001b[1;32m-> 1009\u001b[0m         \u001b[38;5;28;01mraise\u001b[39;00m \u001b[38;5;167;01mKeyError\u001b[39;00m(gpr)\n\u001b[0;32m   1010\u001b[0m \u001b[38;5;28;01melif\u001b[39;00m \u001b[38;5;28misinstance\u001b[39m(gpr, Grouper) \u001b[38;5;129;01mand\u001b[39;00m gpr\u001b[38;5;241m.\u001b[39mkey \u001b[38;5;129;01mis\u001b[39;00m \u001b[38;5;129;01mnot\u001b[39;00m \u001b[38;5;28;01mNone\u001b[39;00m:\n\u001b[0;32m   1011\u001b[0m     \u001b[38;5;66;03m# Add key to exclusions\u001b[39;00m\n\u001b[0;32m   1012\u001b[0m     exclusions\u001b[38;5;241m.\u001b[39madd(gpr\u001b[38;5;241m.\u001b[39mkey)\n",
      "\u001b[1;31mKeyError\u001b[0m: 'City'"
     ]
    }
   ],
   "source": [
    "# Group by 'City' and calculate the mean age\n",
    "grouped_df = df.groupby('City')['Age'].mean()\n",
    "print(grouped_df)\n"
   ]
  },
  {
   "cell_type": "markdown",
   "id": "56607010-f9b7-4e74-8b88-1260f8e8eb1a",
   "metadata": {},
   "source": [
    "plot()\n",
    "\n",
    "Plots the data in the DataFrame."
   ]
  },
  {
   "cell_type": "code",
   "execution_count": 5,
   "id": "1aea9f10-968a-4e0e-aac1-d7e25b9eac8f",
   "metadata": {},
   "outputs": [
    {
     "ename": "KeyError",
     "evalue": "'Age'",
     "output_type": "error",
     "traceback": [
      "\u001b[1;31m---------------------------------------------------------------------------\u001b[0m",
      "\u001b[1;31mKeyError\u001b[0m                                  Traceback (most recent call last)",
      "File \u001b[1;32m~\\anaconda3\\Lib\\site-packages\\pandas\\core\\indexes\\base.py:3791\u001b[0m, in \u001b[0;36mIndex.get_loc\u001b[1;34m(self, key)\u001b[0m\n\u001b[0;32m   3790\u001b[0m \u001b[38;5;28;01mtry\u001b[39;00m:\n\u001b[1;32m-> 3791\u001b[0m     \u001b[38;5;28;01mreturn\u001b[39;00m \u001b[38;5;28mself\u001b[39m\u001b[38;5;241m.\u001b[39m_engine\u001b[38;5;241m.\u001b[39mget_loc(casted_key)\n\u001b[0;32m   3792\u001b[0m \u001b[38;5;28;01mexcept\u001b[39;00m \u001b[38;5;167;01mKeyError\u001b[39;00m \u001b[38;5;28;01mas\u001b[39;00m err:\n",
      "File \u001b[1;32mindex.pyx:152\u001b[0m, in \u001b[0;36mpandas._libs.index.IndexEngine.get_loc\u001b[1;34m()\u001b[0m\n",
      "File \u001b[1;32mindex.pyx:181\u001b[0m, in \u001b[0;36mpandas._libs.index.IndexEngine.get_loc\u001b[1;34m()\u001b[0m\n",
      "File \u001b[1;32mpandas\\_libs\\hashtable_class_helper.pxi:7080\u001b[0m, in \u001b[0;36mpandas._libs.hashtable.PyObjectHashTable.get_item\u001b[1;34m()\u001b[0m\n",
      "File \u001b[1;32mpandas\\_libs\\hashtable_class_helper.pxi:7088\u001b[0m, in \u001b[0;36mpandas._libs.hashtable.PyObjectHashTable.get_item\u001b[1;34m()\u001b[0m\n",
      "\u001b[1;31mKeyError\u001b[0m: 'Age'",
      "\nThe above exception was the direct cause of the following exception:\n",
      "\u001b[1;31mKeyError\u001b[0m                                  Traceback (most recent call last)",
      "Cell \u001b[1;32mIn[5], line 4\u001b[0m\n\u001b[0;32m      1\u001b[0m \u001b[38;5;28;01mimport\u001b[39;00m \u001b[38;5;21;01mmatplotlib\u001b[39;00m\u001b[38;5;21;01m.\u001b[39;00m\u001b[38;5;21;01mpyplot\u001b[39;00m \u001b[38;5;28;01mas\u001b[39;00m \u001b[38;5;21;01mplt\u001b[39;00m\n\u001b[0;32m      3\u001b[0m \u001b[38;5;66;03m# Plotting the data\u001b[39;00m\n\u001b[1;32m----> 4\u001b[0m df\u001b[38;5;241m.\u001b[39mplot(kind\u001b[38;5;241m=\u001b[39m\u001b[38;5;124m'\u001b[39m\u001b[38;5;124mbar\u001b[39m\u001b[38;5;124m'\u001b[39m, x\u001b[38;5;241m=\u001b[39m\u001b[38;5;124m'\u001b[39m\u001b[38;5;124mName\u001b[39m\u001b[38;5;124m'\u001b[39m, y\u001b[38;5;241m=\u001b[39m\u001b[38;5;124m'\u001b[39m\u001b[38;5;124mAge\u001b[39m\u001b[38;5;124m'\u001b[39m)\n\u001b[0;32m      5\u001b[0m plt\u001b[38;5;241m.\u001b[39mshow()\n",
      "File \u001b[1;32m~\\anaconda3\\Lib\\site-packages\\pandas\\plotting\\_core.py:1017\u001b[0m, in \u001b[0;36mPlotAccessor.__call__\u001b[1;34m(self, *args, **kwargs)\u001b[0m\n\u001b[0;32m   1014\u001b[0m             \u001b[38;5;28;01mpass\u001b[39;00m\n\u001b[0;32m   1016\u001b[0m \u001b[38;5;66;03m# don't overwrite\u001b[39;00m\n\u001b[1;32m-> 1017\u001b[0m data \u001b[38;5;241m=\u001b[39m data[y]\u001b[38;5;241m.\u001b[39mcopy()\n\u001b[0;32m   1019\u001b[0m \u001b[38;5;28;01mif\u001b[39;00m \u001b[38;5;28misinstance\u001b[39m(data, ABCSeries):\n\u001b[0;32m   1020\u001b[0m     label_name \u001b[38;5;241m=\u001b[39m label_kw \u001b[38;5;129;01mor\u001b[39;00m y\n",
      "File \u001b[1;32m~\\anaconda3\\Lib\\site-packages\\pandas\\core\\frame.py:3893\u001b[0m, in \u001b[0;36mDataFrame.__getitem__\u001b[1;34m(self, key)\u001b[0m\n\u001b[0;32m   3891\u001b[0m \u001b[38;5;28;01mif\u001b[39;00m \u001b[38;5;28mself\u001b[39m\u001b[38;5;241m.\u001b[39mcolumns\u001b[38;5;241m.\u001b[39mnlevels \u001b[38;5;241m>\u001b[39m \u001b[38;5;241m1\u001b[39m:\n\u001b[0;32m   3892\u001b[0m     \u001b[38;5;28;01mreturn\u001b[39;00m \u001b[38;5;28mself\u001b[39m\u001b[38;5;241m.\u001b[39m_getitem_multilevel(key)\n\u001b[1;32m-> 3893\u001b[0m indexer \u001b[38;5;241m=\u001b[39m \u001b[38;5;28mself\u001b[39m\u001b[38;5;241m.\u001b[39mcolumns\u001b[38;5;241m.\u001b[39mget_loc(key)\n\u001b[0;32m   3894\u001b[0m \u001b[38;5;28;01mif\u001b[39;00m is_integer(indexer):\n\u001b[0;32m   3895\u001b[0m     indexer \u001b[38;5;241m=\u001b[39m [indexer]\n",
      "File \u001b[1;32m~\\anaconda3\\Lib\\site-packages\\pandas\\core\\indexes\\base.py:3798\u001b[0m, in \u001b[0;36mIndex.get_loc\u001b[1;34m(self, key)\u001b[0m\n\u001b[0;32m   3793\u001b[0m     \u001b[38;5;28;01mif\u001b[39;00m \u001b[38;5;28misinstance\u001b[39m(casted_key, \u001b[38;5;28mslice\u001b[39m) \u001b[38;5;129;01mor\u001b[39;00m (\n\u001b[0;32m   3794\u001b[0m         \u001b[38;5;28misinstance\u001b[39m(casted_key, abc\u001b[38;5;241m.\u001b[39mIterable)\n\u001b[0;32m   3795\u001b[0m         \u001b[38;5;129;01mand\u001b[39;00m \u001b[38;5;28many\u001b[39m(\u001b[38;5;28misinstance\u001b[39m(x, \u001b[38;5;28mslice\u001b[39m) \u001b[38;5;28;01mfor\u001b[39;00m x \u001b[38;5;129;01min\u001b[39;00m casted_key)\n\u001b[0;32m   3796\u001b[0m     ):\n\u001b[0;32m   3797\u001b[0m         \u001b[38;5;28;01mraise\u001b[39;00m InvalidIndexError(key)\n\u001b[1;32m-> 3798\u001b[0m     \u001b[38;5;28;01mraise\u001b[39;00m \u001b[38;5;167;01mKeyError\u001b[39;00m(key) \u001b[38;5;28;01mfrom\u001b[39;00m \u001b[38;5;21;01merr\u001b[39;00m\n\u001b[0;32m   3799\u001b[0m \u001b[38;5;28;01mexcept\u001b[39;00m \u001b[38;5;167;01mTypeError\u001b[39;00m:\n\u001b[0;32m   3800\u001b[0m     \u001b[38;5;66;03m# If we have a listlike key, _check_indexing_error will raise\u001b[39;00m\n\u001b[0;32m   3801\u001b[0m     \u001b[38;5;66;03m#  InvalidIndexError. Otherwise we fall through and re-raise\u001b[39;00m\n\u001b[0;32m   3802\u001b[0m     \u001b[38;5;66;03m#  the TypeError.\u001b[39;00m\n\u001b[0;32m   3803\u001b[0m     \u001b[38;5;28mself\u001b[39m\u001b[38;5;241m.\u001b[39m_check_indexing_error(key)\n",
      "\u001b[1;31mKeyError\u001b[0m: 'Age'"
     ]
    }
   ],
   "source": [
    "import matplotlib.pyplot as plt\n",
    "\n",
    "# Plotting the data\n",
    "df.plot(kind='bar', x='Name', y='Age')\n",
    "plt.show()\n"
   ]
  },
  {
   "cell_type": "markdown",
   "id": "d42aae64-87ff-4577-9d86-36efc50216e0",
   "metadata": {},
   "source": [
    "## Q2. Given a Pandas DataFrame df with columns 'A', 'B', and 'C', write a Python function to re-index the DataFrame with a new index that starts from 1 and increments by 2 for each row."
   ]
  },
  {
   "cell_type": "code",
   "execution_count": 6,
   "id": "adcb9212-9a68-4537-bcd6-02f9dfe6903c",
   "metadata": {},
   "outputs": [
    {
     "name": "stdout",
     "output_type": "stream",
     "text": [
      "Original DataFrame:\n",
      "   A  B  C\n",
      "0  1  4  7\n",
      "1  2  5  8\n",
      "2  3  6  9\n",
      "\n",
      "Re-indexed DataFrame:\n",
      "   A  B  C\n",
      "1  1  4  7\n",
      "3  2  5  8\n",
      "5  3  6  9\n"
     ]
    }
   ],
   "source": [
    "import pandas as pd\n",
    "\n",
    "def reindex_dataframe(df):\n",
    "    # Create a new index starting from 1 and incrementing by 2\n",
    "    new_index = range(1, 2 * len(df) + 1, 2)\n",
    "    # Assign the new index to the DataFrame\n",
    "    df.index = new_index\n",
    "    return df\n",
    "\n",
    "# Example usage\n",
    "data = {'A': [1, 2, 3], 'B': [4, 5, 6], 'C': [7, 8, 9]}\n",
    "df = pd.DataFrame(data)\n",
    "print(\"Original DataFrame:\")\n",
    "print(df)\n",
    "\n",
    "df_reindexed = reindex_dataframe(df)\n",
    "print(\"\\nRe-indexed DataFrame:\")\n",
    "print(df_reindexed)\n"
   ]
  },
  {
   "cell_type": "markdown",
   "id": "25dc886f-da6e-4eef-bfa1-fdd5c58c9e8a",
   "metadata": {},
   "source": [
    "## Q3. You have a Pandas DataFrame df with a column named 'Values'. Write a Python function that iterates over the DataFrame and calculates the sum of the first three values in the 'Values' column. The function should print the sum to the console."
   ]
  },
  {
   "cell_type": "code",
   "execution_count": 7,
   "id": "4ef69346-70d0-49ec-b261-fcc51edcdfbb",
   "metadata": {},
   "outputs": [
    {
     "name": "stdout",
     "output_type": "stream",
     "text": [
      "Sum of the first three values: 60\n"
     ]
    }
   ],
   "source": [
    "import pandas as pd\n",
    "\n",
    "def sum_first_three_values(df):\n",
    "    # Calculate the sum of the first three values in the 'Values' column\n",
    "    total_sum = df['Values'].head(3).sum()\n",
    "    # Print the sum to the console\n",
    "    print(\"Sum of the first three values:\", total_sum)\n",
    "\n",
    "# Example usage\n",
    "data = {'Values': [10, 20, 30, 40, 50]}\n",
    "df = pd.DataFrame(data)\n",
    "\n",
    "sum_first_three_values(df)\n"
   ]
  },
  {
   "cell_type": "markdown",
   "id": "26ba2f7b-25cd-42dd-87b5-96c03984ba37",
   "metadata": {},
   "source": [
    "## Q4. Given a Pandas DataFrame df with a column 'Text', write a Python function to create a new column 'Word_Count' that contains the number of words in each row of the 'Text' column."
   ]
  },
  {
   "cell_type": "code",
   "execution_count": 8,
   "id": "f64b5490-fd76-44d8-8894-0eeca8e4ae61",
   "metadata": {},
   "outputs": [
    {
     "name": "stdout",
     "output_type": "stream",
     "text": [
      "                  Text  Word_Count\n",
      "0  This is a sentence.           4\n",
      "1    Another sentence.           2\n",
      "2     Yet another one.           3\n"
     ]
    }
   ],
   "source": [
    "import pandas as pd\n",
    "\n",
    "def add_word_count_column(df):\n",
    "    # Create the 'Word_Count' column by applying a lambda function to count the words in each row of the 'Text' column\n",
    "    df['Word_Count'] = df['Text'].apply(lambda x: len(x.split()))\n",
    "    return df\n",
    "\n",
    "# Example usage\n",
    "data = {'Text': ['This is a sentence.', 'Another sentence.', 'Yet another one.']}\n",
    "df = pd.DataFrame(data)\n",
    "\n",
    "df_with_word_count = add_word_count_column(df)\n",
    "print(df_with_word_count)\n"
   ]
  },
  {
   "cell_type": "markdown",
   "id": "1f1bfb64-4e40-4766-9323-463e23d015f5",
   "metadata": {},
   "source": [
    "## Q5. How are DataFrame.size() and DataFrame.shape() different?"
   ]
  },
  {
   "cell_type": "markdown",
   "id": "29d5b41f-6561-4acb-846c-8a675a6728ed",
   "metadata": {},
   "source": [
    "DataFrame.size and DataFrame.shape are attributes of a Pandas DataFrame that provide information about the DataFrame's dimensions, but they are different in what they return:\n",
    "DataFrame.size\n",
    "\n",
    "    Definition: Returns the number of elements in the DataFrame.\n",
    "    Calculation: It is the product of the number of rows and columns.\n",
    "    Type: Returns a single integer.\n",
    "    Example:"
   ]
  },
  {
   "cell_type": "code",
   "execution_count": 9,
   "id": "b89e0901-ef5a-4b61-b2e7-601c8b7c0f56",
   "metadata": {},
   "outputs": [
    {
     "name": "stdout",
     "output_type": "stream",
     "text": [
      "6\n"
     ]
    }
   ],
   "source": [
    "df = pd.DataFrame({\n",
    "    'A': [1, 2, 3],\n",
    "    'B': [4, 5, 6]\n",
    "})\n",
    "print(df.size)  # Output: 6\n"
   ]
  },
  {
   "cell_type": "markdown",
   "id": "85da85e5-762b-4158-a4f9-1c4c4e84b69e",
   "metadata": {},
   "source": [
    "DataFrame.shape\n",
    "\n",
    "    Definition: Returns a tuple representing the dimensions of the DataFrame.\n",
    "    Contents: The tuple contains the number of rows and the number of columns.\n",
    "    Type: Returns a tuple of two integers.\n",
    "    Example:"
   ]
  },
  {
   "cell_type": "code",
   "execution_count": 10,
   "id": "c07a36c2-d20e-49e8-9b13-f9a447a5a194",
   "metadata": {},
   "outputs": [
    {
     "name": "stdout",
     "output_type": "stream",
     "text": [
      "(3, 2)\n"
     ]
    }
   ],
   "source": [
    "df = pd.DataFrame({\n",
    "    'A': [1, 2, 3],\n",
    "    'B': [4, 5, 6]\n",
    "})\n",
    "print(df.shape)  # Output: (3, 2)\n"
   ]
  },
  {
   "cell_type": "markdown",
   "id": "90229d08-d572-4a32-97ac-2ae3a396536e",
   "metadata": {},
   "source": [
    "## Q6. Which function of pandas do we use to read an excel file?"
   ]
  },
  {
   "cell_type": "markdown",
   "id": "20859f91-b9fe-48e5-97e5-154edac7f673",
   "metadata": {},
   "source": [
    "To read an Excel file into a Pandas DataFrame, you use the pandas.read_excel() function. This function can read both .xls and .xlsx file formats."
   ]
  },
  {
   "cell_type": "code",
   "execution_count": 12,
   "id": "30f25c49-61aa-4493-aca9-b36118bdc767",
   "metadata": {},
   "outputs": [],
   "source": [
    "import pandas as pd\n",
    "\n",
    "# Read an Excel file into a DataFrame\n",
    "## df = pd.read_excel('file_path.xlsx')\n"
   ]
  },
  {
   "cell_type": "markdown",
   "id": "8bf069cc-1a7d-49fe-a857-0c04f6514d88",
   "metadata": {},
   "source": [
    "Parameters\n",
    "\n",
    "    io: The path to the Excel file (string), or a file-like object, or an xlrd workbook.\n",
    "    sheet_name: The name or index of the sheet to be read (default is the first sheet).\n",
    "    header: The row (0-indexed) to use as the column names (default is 0).\n",
    "    names: List of column names to use (if header is None).\n",
    "    usecols: The columns to read (can be a list of column names or indices).\n",
    "    skiprows: The number of rows to skip at the beginning (default is 0)."
   ]
  },
  {
   "cell_type": "markdown",
   "id": "a6feb2dd-09f7-4436-9a53-e469a8f11855",
   "metadata": {},
   "source": [
    "## Q7. You have a Pandas DataFrame df that contains a column named 'Email' that contains email addresses in the format 'username@domain.com'. Write a Python function that creates a new column 'Username' in df that contains only the username part of each email address."
   ]
  },
  {
   "cell_type": "code",
   "execution_count": 13,
   "id": "9e56dae1-1fbe-486a-a9f3-d3adcd10d140",
   "metadata": {},
   "outputs": [
    {
     "name": "stdout",
     "output_type": "stream",
     "text": [
      "                   Email    Username\n",
      "0   john.doe@example.com    john.doe\n",
      "1  jane.smith@domain.com  jane.smith\n",
      "2    user123@service.org     user123\n"
     ]
    }
   ],
   "source": [
    "import pandas as pd\n",
    "\n",
    "def extract_username(df):\n",
    "    # Create the 'Username' column by applying a lambda function to extract the username part of each email address\n",
    "    df['Username'] = df['Email'].apply(lambda x: x.split('@')[0])\n",
    "    return df\n",
    "\n",
    "# Example usage\n",
    "data = {'Email': ['john.doe@example.com', 'jane.smith@domain.com', 'user123@service.org']}\n",
    "df = pd.DataFrame(data)\n",
    "\n",
    "df_with_usernames = extract_username(df)\n",
    "print(df_with_usernames)\n"
   ]
  },
  {
   "cell_type": "markdown",
   "id": "84b6c911-6235-49a4-88b4-a8a4c88b5098",
   "metadata": {},
   "source": [
    "## Q8. You have a Pandas DataFrame df with columns 'A', 'B', and 'C'. Write a Python function that selects all rows where the value in column 'A' is greater than 5 and the value in column 'B' is less than 10. The function should return a new DataFrame that contains only the selected rows. For example, if df contains the following values: A B C 0 3 5 1 1 8 2 7 2 6 9 4 3 2 3 5 4 9 1 2 Your function should select the following rows: A B C 1 8 2 7 4 9 1 2 The function should return a new DataFrame that contains only the selected rows."
   ]
  },
  {
   "cell_type": "code",
   "execution_count": 14,
   "id": "98b203f2-d29d-46a9-8dc0-b02e9b74036c",
   "metadata": {},
   "outputs": [
    {
     "name": "stdout",
     "output_type": "stream",
     "text": [
      "   A  B  C\n",
      "1  8  2  7\n",
      "2  6  9  4\n",
      "4  9  1  2\n"
     ]
    }
   ],
   "source": [
    "import pandas as pd\n",
    "\n",
    "def select_rows(df):\n",
    "    # Apply the conditions to filter the DataFrame\n",
    "    selected_df = df[(df['A'] > 5) & (df['B'] < 10)]\n",
    "    return selected_df\n",
    "\n",
    "# Example usage\n",
    "data = {'A': [3, 8, 6, 2, 9], 'B': [5, 2, 9, 3, 1], 'C': [1, 7, 4, 5, 2]}\n",
    "df = pd.DataFrame(data)\n",
    "\n",
    "selected_df = select_rows(df)\n",
    "print(selected_df)\n"
   ]
  },
  {
   "cell_type": "markdown",
   "id": "a6f0f14f-4c29-4d50-8c6a-3d4d06d4ab1d",
   "metadata": {},
   "source": [
    "## Q9. Given a Pandas DataFrame df with a column 'Values', write a Python function to calculate the mean, median, and standard deviation of the values in the 'Values' column."
   ]
  },
  {
   "cell_type": "code",
   "execution_count": 15,
   "id": "26f66cea-e686-45e3-9139-807cff4b3a1e",
   "metadata": {},
   "outputs": [
    {
     "name": "stdout",
     "output_type": "stream",
     "text": [
      "Mean: 30.0\n",
      "Median: 30.0\n",
      "Standard Deviation: 15.811388300841896\n"
     ]
    }
   ],
   "source": [
    "import pandas as pd\n",
    "\n",
    "def calculate_statistics(df):\n",
    "    # Calculate the mean, median, and standard deviation of the 'Values' column\n",
    "    mean_value = df['Values'].mean()\n",
    "    median_value = df['Values'].median()\n",
    "    std_dev_value = df['Values'].std()\n",
    "    \n",
    "    # Print the results\n",
    "    print(f\"Mean: {mean_value}\")\n",
    "    print(f\"Median: {median_value}\")\n",
    "    print(f\"Standard Deviation: {std_dev_value}\")\n",
    "    \n",
    "    # Return the results as a dictionary (optional)\n",
    "    return {\n",
    "        'mean': mean_value,\n",
    "        'median': median_value,\n",
    "        'std_dev': std_dev_value\n",
    "    }\n",
    "\n",
    "# Example usage\n",
    "data = {'Values': [10, 20, 30, 40, 50]}\n",
    "df = pd.DataFrame(data)\n",
    "\n",
    "statistics = calculate_statistics(df)\n"
   ]
  },
  {
   "cell_type": "markdown",
   "id": "6cb49f98-12e3-4fe0-b13a-8d93654f9459",
   "metadata": {},
   "source": [
    "## Q10. Given a Pandas DataFrame df with a column 'Sales' and a column 'Date', write a Python function to create a new column 'MovingAverage' that contains the moving average of the sales for the past 7 days for each row in the DataFrame. The moving average should be calculated using a window of size 7 and should include the current day."
   ]
  },
  {
   "cell_type": "code",
   "execution_count": 16,
   "id": "cd3fc88b-d425-40ae-aa64-4810ca1ac648",
   "metadata": {},
   "outputs": [
    {
     "name": "stdout",
     "output_type": "stream",
     "text": [
      "        Date  Sales  MovingAverage\n",
      "0 2023-01-01    100          100.0\n",
      "1 2023-01-02    150          125.0\n",
      "2 2023-01-03    200          150.0\n",
      "3 2023-01-04    250          175.0\n",
      "4 2023-01-05    300          200.0\n",
      "5 2023-01-06    350          225.0\n",
      "6 2023-01-07    400          250.0\n",
      "7 2023-01-08    450          300.0\n",
      "8 2023-01-09    500          350.0\n",
      "9 2023-01-10    550          400.0\n"
     ]
    }
   ],
   "source": [
    "import pandas as pd\n",
    "\n",
    "def add_moving_average(df):\n",
    "    # Ensure the 'Date' column is in datetime format\n",
    "    df['Date'] = pd.to_datetime(df['Date'])\n",
    "    \n",
    "    # Sort the DataFrame by 'Date' to ensure the rolling calculation is done correctly\n",
    "    df = df.sort_values('Date')\n",
    "    \n",
    "    # Calculate the 7-day moving average of the 'Sales' column\n",
    "    df['MovingAverage'] = df['Sales'].rolling(window=7, min_periods=1).mean()\n",
    "    \n",
    "    return df\n",
    "\n",
    "# Example usage\n",
    "data = {\n",
    "    'Date': ['2023-01-01', '2023-01-02', '2023-01-03', '2023-01-04', '2023-01-05', \n",
    "             '2023-01-06', '2023-01-07', '2023-01-08', '2023-01-09', '2023-01-10'],\n",
    "    'Sales': [100, 150, 200, 250, 300, 350, 400, 450, 500, 550]\n",
    "}\n",
    "df = pd.DataFrame(data)\n",
    "\n",
    "df_with_moving_average = add_moving_average(df)\n",
    "print(df_with_moving_average)\n"
   ]
  },
  {
   "cell_type": "markdown",
   "id": "7fe218ee-1213-46bc-bc0a-4f829ff82c61",
   "metadata": {},
   "source": [
    "## Q11. You have a Pandas DataFrame df with a column 'Date'. Write a Python function that creates a new column 'Weekday' in the DataFrame. The 'Weekday' column should contain the weekday name (e.g. Monday, Tuesday) corresponding to each date in the 'Date' column. For example, if df contains the following values: Date 0 2023-01-01 1 2023-01-02 2 2023-01-03 3 2023-01-04 4 2023-01-05 Your function should create the following DataFrame: Date Weekday 0 2023-01-01 Sunday 1 2023-01-02 Monday 2 2023-01-03 Tuesday 3 2023-01-04 Wednesday 4 2023-01-05 Thursday The function should return the modified DataFrame."
   ]
  },
  {
   "cell_type": "code",
   "execution_count": 17,
   "id": "1d048cd0-12df-4fe5-800d-278eb8ae2bf9",
   "metadata": {},
   "outputs": [
    {
     "name": "stdout",
     "output_type": "stream",
     "text": [
      "        Date    Weekday\n",
      "0 2023-01-01     Sunday\n",
      "1 2023-01-02     Monday\n",
      "2 2023-01-03    Tuesday\n",
      "3 2023-01-04  Wednesday\n",
      "4 2023-01-05   Thursday\n"
     ]
    }
   ],
   "source": [
    "import pandas as pd\n",
    "\n",
    "def add_weekday_column(df):\n",
    "    # Ensure 'Date' column is in datetime format\n",
    "    df['Date'] = pd.to_datetime(df['Date'])\n",
    "    \n",
    "    # Create 'Weekday' column by extracting weekday names\n",
    "    df['Weekday'] = df['Date'].dt.day_name()\n",
    "    \n",
    "    return df\n",
    "\n",
    "# Example usage\n",
    "data = {'Date': ['2023-01-01', '2023-01-02', '2023-01-03', '2023-01-04', '2023-01-05']}\n",
    "df = pd.DataFrame(data)\n",
    "df = add_weekday_column(df)\n",
    "print(df)\n"
   ]
  },
  {
   "cell_type": "markdown",
   "id": "b132f81b-8323-4367-8413-dd84a3d459a5",
   "metadata": {},
   "source": [
    "## Q12. Given a Pandas DataFrame df with a column 'Date' that contains timestamps, write a Python function to select all rows where the date is between '2023-01-01' and '2023-01-31'."
   ]
  },
  {
   "cell_type": "code",
   "execution_count": 18,
   "id": "ebeaa4f1-d0a9-46b4-9c5b-49a2d28d43c0",
   "metadata": {},
   "outputs": [
    {
     "name": "stdout",
     "output_type": "stream",
     "text": [
      "        Date\n",
      "0 2023-01-01\n",
      "1 2023-01-10\n",
      "2 2023-01-20\n"
     ]
    }
   ],
   "source": [
    "import pandas as pd\n",
    "\n",
    "def filter_dates(df):\n",
    "    # Ensure 'Date' column is in datetime format\n",
    "    df['Date'] = pd.to_datetime(df['Date'])\n",
    "    \n",
    "    # Define the date range\n",
    "    start_date = '2023-01-01'\n",
    "    end_date = '2023-01-31'\n",
    "    \n",
    "    # Filter rows where 'Date' is between start_date and end_date\n",
    "    filtered_df = df[(df['Date'] >= start_date) & (df['Date'] <= end_date)]\n",
    "    \n",
    "    return filtered_df\n",
    "\n",
    "# Example usage\n",
    "data = {'Date': ['2023-01-01', '2023-01-10', '2023-01-20', '2023-02-01']}\n",
    "df = pd.DataFrame(data)\n",
    "filtered_df = filter_dates(df)\n",
    "print(filtered_df)\n"
   ]
  },
  {
   "cell_type": "markdown",
   "id": "7b9bd1b6-c8a8-471e-bb17-bcc48539c935",
   "metadata": {},
   "source": [
    "## Q13. To use the basic functions of pandas, what is the first and foremost necessary library that needs to be imported?"
   ]
  },
  {
   "cell_type": "code",
   "execution_count": 19,
   "id": "c944db94-de25-4d3c-8643-434ae47b5870",
   "metadata": {},
   "outputs": [],
   "source": [
    "import pandas as pd"
   ]
  }
 ],
 "metadata": {
  "kernelspec": {
   "display_name": "Python 3 (ipykernel)",
   "language": "python",
   "name": "python3"
  },
  "language_info": {
   "codemirror_mode": {
    "name": "ipython",
    "version": 3
   },
   "file_extension": ".py",
   "mimetype": "text/x-python",
   "name": "python",
   "nbconvert_exporter": "python",
   "pygments_lexer": "ipython3",
   "version": "3.11.7"
  },
  "widgets": {
   "application/vnd.jupyter.widget-state+json": {
    "state": {},
    "version_major": 2,
    "version_minor": 0
   }
  }
 },
 "nbformat": 4,
 "nbformat_minor": 5
}
