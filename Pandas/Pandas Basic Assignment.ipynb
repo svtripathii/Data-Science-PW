{
 "cells": [
  {
   "cell_type": "markdown",
   "id": "2271856e-b52d-4094-83b9-275808a9d8f2",
   "metadata": {},
   "source": [
    "## Q1. Create a Pandas Series that contains the following data: 4, 8, 15, 16, 23, and 42. Then, print the series."
   ]
  },
  {
   "cell_type": "code",
   "execution_count": 2,
   "id": "d4e7a8ec-cf8a-4727-80e3-bc7369df8417",
   "metadata": {},
   "outputs": [
    {
     "name": "stdout",
     "output_type": "stream",
     "text": [
      "0     4\n",
      "1     8\n",
      "2    15\n",
      "3    16\n",
      "4    23\n",
      "5    42\n",
      "dtype: int64\n"
     ]
    }
   ],
   "source": [
    "import pandas as pd\n",
    "\n",
    "# Creating the Pandas Series\n",
    "data = [4, 8, 15, 16, 23, 42]\n",
    "series = pd.Series(data)\n",
    "\n",
    "# Printing the Series\n",
    "print(series)\n"
   ]
  },
  {
   "cell_type": "markdown",
   "id": "e1e119cc-c097-4e2e-a39b-e36f8f2576f6",
   "metadata": {},
   "source": [
    "## Q2. Create a variable of list type containing 10 elements in it, and apply pandas.Series function on the variable print it."
   ]
  },
  {
   "cell_type": "code",
   "execution_count": 3,
   "id": "d3a319d9-9df2-4db4-9b89-43dbf704b2a0",
   "metadata": {},
   "outputs": [
    {
     "name": "stdout",
     "output_type": "stream",
     "text": [
      "0     1\n",
      "1     2\n",
      "2     3\n",
      "3     4\n",
      "4     5\n",
      "5     6\n",
      "6     7\n",
      "7     8\n",
      "8     9\n",
      "9    10\n",
      "dtype: int64\n"
     ]
    }
   ],
   "source": [
    "import pandas as pd\n",
    "\n",
    "# Creating the list with 10 elements\n",
    "data_list = [1, 2, 3, 4, 5, 6, 7, 8, 9, 10]\n",
    "\n",
    "# Converting the list to a Pandas Series\n",
    "series = pd.Series(data_list)\n",
    "\n",
    "# Printing the Series\n",
    "print(series)\n"
   ]
  },
  {
   "cell_type": "markdown",
   "id": "e46e0dd4-e6c1-4e9a-bb63-5d497b2c06c9",
   "metadata": {},
   "source": [
    "## Q3. Create a Pandas DataFrame that contains the following data: Name Alice Bob Claire Age 25 30 27 Gender Female Male Female Then, print the DataFrame."
   ]
  },
  {
   "cell_type": "code",
   "execution_count": 4,
   "id": "a8d8d541-794d-4d06-891c-45d0d918e74d",
   "metadata": {},
   "outputs": [
    {
     "name": "stdout",
     "output_type": "stream",
     "text": [
      "     Name  Age  Gender\n",
      "0   Alice   25  Female\n",
      "1     Bob   30    Male\n",
      "2  Claire   27  Female\n"
     ]
    }
   ],
   "source": [
    "import pandas as pd\n",
    "\n",
    "# Creating the data dictionary\n",
    "data = {\n",
    "    'Name': ['Alice', 'Bob', 'Claire'],\n",
    "    'Age': [25, 30, 27],\n",
    "    'Gender': ['Female', 'Male', 'Female']\n",
    "}\n",
    "\n",
    "# Converting the dictionary to a Pandas DataFrame\n",
    "df = pd.DataFrame(data)\n",
    "\n",
    "# Printing the DataFrame\n",
    "print(df)\n"
   ]
  },
  {
   "cell_type": "markdown",
   "id": "ece196be-478a-4ec5-bf99-a9be0142664c",
   "metadata": {},
   "source": [
    "## Q4. What is ‘DataFrame’ in pandas and how is it different from pandas.series? Explain with an example."
   ]
  },
  {
   "cell_type": "markdown",
   "id": "76708dc2-c42b-40ea-8f9f-25677da4b0f1",
   "metadata": {},
   "source": [
    "A DataFrame in pandas is a two-dimensional, size-mutable, and potentially heterogeneous tabular data structure with labeled axes (rows and columns). It is similar to a spreadsheet or SQL table, or a dictionary of Series objects. Each column in a DataFrame can be of a different data type, and it allows for a wide range of operations and data manipulations.\n",
    "\n",
    "A Series, on the other hand, is a one-dimensional labeled array capable of holding any data type (integers, strings, floating-point numbers, etc.). Think of a Series as a single column of data.\n",
    "Key Differences\n",
    "\n",
    "    Dimensions: A Series is one-dimensional (like a single column), while a DataFrame is two-dimensional (like a table with rows and columns).\n",
    "    Data Structure: A Series can be thought of as a single column of data with an index, whereas a DataFrame consists of multiple columns, each of which is a Series.\n",
    "    Data Types: In a DataFrame, different columns can contain different data types (e.g., integers, floats, strings), whereas a Series contains data of a single data type."
   ]
  },
  {
   "cell_type": "code",
   "execution_count": 5,
   "id": "46df3e91-505a-429e-b1e9-1c0ad08419b7",
   "metadata": {},
   "outputs": [
    {
     "name": "stdout",
     "output_type": "stream",
     "text": [
      "Series:\n",
      "0    10\n",
      "1    20\n",
      "2    30\n",
      "3    40\n",
      "4    50\n",
      "Name: Numbers, dtype: int64\n",
      "\n",
      "DataFrame:\n",
      "     Name  Age  Gender\n",
      "0   Alice   25  Female\n",
      "1     Bob   30    Male\n",
      "2  Claire   27  Female\n"
     ]
    }
   ],
   "source": [
    "import pandas as pd\n",
    "\n",
    "# Creating a Series\n",
    "data_series = pd.Series([10, 20, 30, 40, 50], name=\"Numbers\")\n",
    "print(\"Series:\")\n",
    "print(data_series)\n",
    "print()\n",
    "\n",
    "# Creating a DataFrame\n",
    "data_dict = {\n",
    "    'Name': ['Alice', 'Bob', 'Claire'],\n",
    "    'Age': [25, 30, 27],\n",
    "    'Gender': ['Female', 'Male', 'Female']\n",
    "}\n",
    "data_frame = pd.DataFrame(data_dict)\n",
    "print(\"DataFrame:\")\n",
    "print(data_frame)\n"
   ]
  },
  {
   "cell_type": "markdown",
   "id": "8df9ae7e-f6bf-48ae-9b39-39aaea3a78ff",
   "metadata": {},
   "source": [
    "## Q5. What are some common functions you can use to manipulate data in a Pandas DataFrame? Can you give an example of when you might use one of these functions?"
   ]
  },
  {
   "cell_type": "markdown",
   "id": "91c7f310-4009-420d-b866-bd681156a2bf",
   "metadata": {},
   "source": [
    "Pandas provides a wide array of functions to manipulate data in a DataFrame. Here are some common functions and their typical use cases:\n",
    "\n",
    "    head() and tail(): View the first or last few rows of the DataFrame.\n",
    "        Example: df.head(3) to see the first 3 rows of the DataFrame.\n",
    "\n",
    "    info(): Get a concise summary of the DataFrame, including the data types of each column and the number of non-null values.\n",
    "        Example: df.info() to understand the structure and data types of your DataFrame.\n",
    "\n",
    "    describe(): Generate descriptive statistics of numeric columns.\n",
    "        Example: df.describe() to get summary statistics like mean, median, and standard deviation.\n",
    "\n",
    "    loc[] and iloc[]: Access a group of rows and columns by labels or integer positions, respectively.\n",
    "        Example: df.loc[0, 'Name'] to access the value in the first row and the 'Name' column.\n",
    "\n",
    "    drop(): Remove rows or columns.\n",
    "        Example: df.drop('Age', axis=1) to remove the 'Age' column.\n",
    "\n",
    "    fillna(): Fill missing values.\n",
    "        Example: df.fillna(0) to replace all NaN values with 0.\n",
    "\n",
    "    groupby(): Group data by one or more columns and perform aggregate functions.\n",
    "        Example: df.groupby('Gender').mean() to get the mean of numeric columns grouped by 'Gender'.\n",
    "\n",
    "    merge(): Merge two DataFrames.\n",
    "        Example: pd.merge(df1, df2, on='Name') to merge df1 and df2 on the 'Name' column.\n",
    "\n",
    "    apply(): Apply a function along an axis of the DataFrame.\n",
    "        Example: df['Age'].apply(lambda x: x + 1) to add 1 to every value in the 'Age' column.\n",
    "\n",
    "    sort_values(): Sort by the values along either axis.\n",
    "        Example: df.sort_values(by='Age') to sort the DataFrame by the 'Age' column.\n",
    "\n",
    "Example Use Case\n",
    "\n",
    "Let's say we have a DataFrame containing information about employees and we want to find the average age of employees grouped by their department:"
   ]
  },
  {
   "cell_type": "code",
   "execution_count": 6,
   "id": "6108ae96-991e-40aa-bcc0-3d2946e32c8f",
   "metadata": {},
   "outputs": [
    {
     "name": "stdout",
     "output_type": "stream",
     "text": [
      "Department\n",
      "Engineering    35.0\n",
      "Finance        35.0\n",
      "HR             26.0\n",
      "Name: Age, dtype: float64\n"
     ]
    }
   ],
   "source": [
    "import pandas as pd\n",
    "\n",
    "# Sample DataFrame\n",
    "data = {\n",
    "    'Name': ['Alice', 'Bob', 'Claire', 'Dan', 'Eve'],\n",
    "    'Age': [25, 30, 27, 40, 35],\n",
    "    'Department': ['HR', 'Engineering', 'HR', 'Engineering', 'Finance']\n",
    "}\n",
    "\n",
    "df = pd.DataFrame(data)\n",
    "\n",
    "# Group by 'Department' and calculate the mean age\n",
    "average_age_by_department = df.groupby('Department')['Age'].mean()\n",
    "\n",
    "print(average_age_by_department)\n"
   ]
  },
  {
   "cell_type": "markdown",
   "id": "131ed3d7-4ca1-469f-8eb2-86938b766c1d",
   "metadata": {},
   "source": [
    "## Q6. Which of the following is mutable in nature Series, DataFrame, Panel?"
   ]
  },
  {
   "cell_type": "markdown",
   "id": "c3fd859d-5666-416f-8de3-6ecb88d7e780",
   "metadata": {},
   "source": [
    "In pandas, both Series and DataFrame are mutable, meaning you can change their contents after they are created. However, Panel has been deprecated as of pandas version 0.25.0 and is no longer available in more recent versions of pandas. Instead, for three-dimensional data, pandas recommends using the xarray library.\n",
    "Mutability of Series and DataFrame\n",
    "\n",
    "    Series: A one-dimensional labeled array that you can modify by changing values, adding new values, or removing existing values.\n",
    "    DataFrame: A two-dimensional labeled data structure that allows modifications such as changing values, adding or removing columns or rows, and altering the structure of the data.\n",
    "\n",
    "Example of Mutability\n",
    "Series"
   ]
  },
  {
   "cell_type": "code",
   "execution_count": 7,
   "id": "e39e5bc2-8dda-46ad-a569-6c95e01f6a8a",
   "metadata": {},
   "outputs": [
    {
     "name": "stdout",
     "output_type": "stream",
     "text": [
      "Original Series:\n",
      "0    1\n",
      "1    2\n",
      "2    3\n",
      "3    4\n",
      "4    5\n",
      "dtype: int64\n",
      "\n",
      "Modified Series:\n",
      "0    10\n",
      "1     2\n",
      "2     3\n",
      "3     4\n",
      "4     5\n",
      "dtype: int64\n"
     ]
    }
   ],
   "source": [
    "import pandas as pd\n",
    "\n",
    "# Creating a Series\n",
    "data_series = pd.Series([1, 2, 3, 4, 5])\n",
    "print(\"Original Series:\")\n",
    "print(data_series)\n",
    "\n",
    "# Modifying the Series\n",
    "data_series[0] = 10\n",
    "print(\"\\nModified Series:\")\n",
    "print(data_series)\n"
   ]
  },
  {
   "cell_type": "markdown",
   "id": "bb032eca-1851-4361-b835-8a5c8d658fbb",
   "metadata": {},
   "source": [
    "DataFrame"
   ]
  },
  {
   "cell_type": "code",
   "execution_count": 8,
   "id": "3b39cf8e-aaa6-4307-b01f-9729034132a7",
   "metadata": {},
   "outputs": [
    {
     "name": "stdout",
     "output_type": "stream",
     "text": [
      "Original DataFrame:\n",
      "   A  B\n",
      "0  1  4\n",
      "1  2  5\n",
      "2  3  6\n",
      "\n",
      "Modified DataFrame:\n",
      "    A  B  C\n",
      "0  10  4  7\n",
      "1   2  5  8\n",
      "2   3  6  9\n"
     ]
    }
   ],
   "source": [
    "import pandas as pd\n",
    "\n",
    "# Creating a DataFrame\n",
    "data_frame = pd.DataFrame({\n",
    "    'A': [1, 2, 3],\n",
    "    'B': [4, 5, 6]\n",
    "})\n",
    "print(\"Original DataFrame:\")\n",
    "print(data_frame)\n",
    "\n",
    "# Modifying the DataFrame\n",
    "data_frame['A'][0] = 10\n",
    "data_frame['C'] = [7, 8, 9]  # Adding a new column\n",
    "print(\"\\nModified DataFrame:\")\n",
    "print(data_frame)\n"
   ]
  },
  {
   "cell_type": "markdown",
   "id": "474915d1-4802-4e13-af47-720d809a0222",
   "metadata": {},
   "source": [
    "## Q7. Create a DataFrame using multiple Series. Explain with an example."
   ]
  },
  {
   "cell_type": "code",
   "execution_count": 9,
   "id": "765685a4-d7b3-4a97-865a-7ba6a7f36d8b",
   "metadata": {},
   "outputs": [
    {
     "name": "stdout",
     "output_type": "stream",
     "text": [
      "     Name  Age  Gender\n",
      "0   Alice   25  Female\n",
      "1     Bob   30    Male\n",
      "2  Claire   27  Female\n"
     ]
    }
   ],
   "source": [
    "import pandas as pd\n",
    "\n",
    "# Creating multiple Series\n",
    "name_series = pd.Series(['Alice', 'Bob', 'Claire'])\n",
    "age_series = pd.Series([25, 30, 27])\n",
    "gender_series = pd.Series(['Female', 'Male', 'Female'])\n",
    "\n",
    "# Creating a DataFrame using the Series\n",
    "data_frame = pd.DataFrame({\n",
    "    'Name': name_series,\n",
    "    'Age': age_series,\n",
    "    'Gender': gender_series\n",
    "})\n",
    "\n",
    "# Printing the DataFrame\n",
    "print(data_frame)\n"
   ]
  }
 ],
 "metadata": {
  "kernelspec": {
   "display_name": "Python 3 (ipykernel)",
   "language": "python",
   "name": "python3"
  },
  "language_info": {
   "codemirror_mode": {
    "name": "ipython",
    "version": 3
   },
   "file_extension": ".py",
   "mimetype": "text/x-python",
   "name": "python",
   "nbconvert_exporter": "python",
   "pygments_lexer": "ipython3",
   "version": "3.11.7"
  },
  "widgets": {
   "application/vnd.jupyter.widget-state+json": {
    "state": {},
    "version_major": 2,
    "version_minor": 0
   }
  }
 },
 "nbformat": 4,
 "nbformat_minor": 5
}
