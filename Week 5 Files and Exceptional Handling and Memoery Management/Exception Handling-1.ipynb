{
 "cells": [
  {
   "cell_type": "raw",
   "id": "fa768550-3c28-4a95-8bac-328f5f6b8514",
   "metadata": {},
   "source": [
    "What is an Exception in python? Write the difference beteen Exceptions and Syntax Errors."
   ]
  },
  {
   "cell_type": "markdown",
   "id": "4d17b856-4fd3-4afa-bf5b-1272f72e1bea",
   "metadata": {},
   "source": [
    "In Python, an exception is an error that occurs during the execution of a program. When a Python script encounters a situation that it cannot cope with, it raises an exception. This can happen for various reasons, such as trying to perform an operation on incompatible data types, attempting to access a file that doesn't exist, or dividing by zero."
   ]
  },
  {
   "cell_type": "code",
   "execution_count": 1,
   "id": "7969cfa3-ca5a-4010-a391-cc7eabf1c438",
   "metadata": {},
   "outputs": [
    {
     "name": "stdout",
     "output_type": "stream",
     "text": [
      "Cannot divide by zero!\n"
     ]
    }
   ],
   "source": [
    "try:\n",
    "    x = 1 / 0\n",
    "except ZeroDivisionError:\n",
    "    print(\"Cannot divide by zero!\")\n"
   ]
  },
  {
   "cell_type": "markdown",
   "id": "7fc853c5-2803-45b9-8d74-ffa838a79cf8",
   "metadata": {},
   "source": [
    "In this example, we're trying to divide 1 by 0, which raises a ZeroDivisionError exception.\n",
    "\n",
    "Syntax errors, on the other hand, occur when the Python parser detects an error in the syntax of the code. These errors happen when you write code that doesn't follow the rules of Python syntax. Syntax errors prevent the code from being interpreted or executed by Python.\n",
    "\n",
    "Here's an example of a syntax error:"
   ]
  },
  {
   "cell_type": "code",
   "execution_count": 3,
   "id": "2d2a6f1b-4090-4596-aba6-f3709406ee85",
   "metadata": {},
   "outputs": [
    {
     "ename": "SyntaxError",
     "evalue": "incomplete input (858328678.py, line 1)",
     "output_type": "error",
     "traceback": [
      "\u001b[1;36m  Cell \u001b[1;32mIn[3], line 1\u001b[1;36m\u001b[0m\n\u001b[1;33m    print(\"Hello world\"  # Missing closing parenthesis\u001b[0m\n\u001b[1;37m                                                      ^\u001b[0m\n\u001b[1;31mSyntaxError\u001b[0m\u001b[1;31m:\u001b[0m incomplete input\n"
     ]
    }
   ],
   "source": [
    "print(\"Hello world\"  # Missing closing parenthesis\n"
   ]
  },
  {
   "cell_type": "markdown",
   "id": "0c3dcdeb-0c6e-4469-9c5f-cb29a5379963",
   "metadata": {},
   "source": [
    "The difference between exceptions and syntax errors lies in their nature:\n",
    "\n",
    "    Exceptions:\n",
    "        Exceptions occur during the execution of a program.\n",
    "        They are caused by situations that occur at runtime, such as division by zero or trying to access a file that doesn't exist.\n",
    "        Exceptions can be handled using try and except blocks to gracefully deal with errors and continue executing the program.\n",
    "\n",
    "    Syntax Errors:\n",
    "        Syntax errors occur during the parsing of the code, before execution.\n",
    "        They are caused by incorrect syntax in the code, such as missing colons, parentheses, or using incorrect keywords.\n",
    "        Syntax errors prevent the program from being executed at all until they are fixed."
   ]
  },
  {
   "cell_type": "raw",
   "id": "178af898-3f29-45db-85a1-18c9dcaee997",
   "metadata": {},
   "source": [
    "What happens when an exception is not handled? Explain with an example"
   ]
  },
  {
   "cell_type": "markdown",
   "id": "a99151a1-633e-46aa-b296-06b8dd9e40e6",
   "metadata": {},
   "source": [
    "When an exception is not handled in Python, it propagates up the call stack until it reaches the top level of the program. If the exception is still not handled at this point, it will result in the termination of the program, and Python will print a traceback showing where the unhandled exception occurred."
   ]
  },
  {
   "cell_type": "code",
   "execution_count": 4,
   "id": "4ed0843e-4d7f-431e-ae3b-fb7277d43280",
   "metadata": {},
   "outputs": [
    {
     "name": "stdout",
     "output_type": "stream",
     "text": [
      "Cannot divide by zero!\n"
     ]
    }
   ],
   "source": [
    "def divide(a, b):\n",
    "    return a / b\n",
    "\n",
    "try:\n",
    "    result = divide(10, 0)\n",
    "    print(\"Result:\", result)\n",
    "except ZeroDivisionError:\n",
    "    print(\"Cannot divide by zero!\")\n"
   ]
  },
  {
   "cell_type": "markdown",
   "id": "a798530e-b53d-48c4-a7af-1b9897ef3bd5",
   "metadata": {},
   "source": [
    "In this example, we're attempting to divide 10 by 0 inside the divide function. Since dividing by zero raises a ZeroDivisionError, we have a try block to catch this exception. However, let's imagine we remove the try-except block:"
   ]
  },
  {
   "cell_type": "code",
   "execution_count": 5,
   "id": "811deba4-2e30-43e9-a6b3-c70fd4fa4050",
   "metadata": {},
   "outputs": [
    {
     "ename": "ZeroDivisionError",
     "evalue": "division by zero",
     "output_type": "error",
     "traceback": [
      "\u001b[1;31m---------------------------------------------------------------------------\u001b[0m",
      "\u001b[1;31mZeroDivisionError\u001b[0m                         Traceback (most recent call last)",
      "Cell \u001b[1;32mIn[5], line 4\u001b[0m\n\u001b[0;32m      1\u001b[0m \u001b[38;5;28;01mdef\u001b[39;00m \u001b[38;5;21mdivide\u001b[39m(a, b):\n\u001b[0;32m      2\u001b[0m     \u001b[38;5;28;01mreturn\u001b[39;00m a \u001b[38;5;241m/\u001b[39m b\n\u001b[1;32m----> 4\u001b[0m result \u001b[38;5;241m=\u001b[39m divide(\u001b[38;5;241m10\u001b[39m, \u001b[38;5;241m0\u001b[39m)\n\u001b[0;32m      5\u001b[0m \u001b[38;5;28mprint\u001b[39m(\u001b[38;5;124m\"\u001b[39m\u001b[38;5;124mResult:\u001b[39m\u001b[38;5;124m\"\u001b[39m, result)\n",
      "Cell \u001b[1;32mIn[5], line 2\u001b[0m, in \u001b[0;36mdivide\u001b[1;34m(a, b)\u001b[0m\n\u001b[0;32m      1\u001b[0m \u001b[38;5;28;01mdef\u001b[39;00m \u001b[38;5;21mdivide\u001b[39m(a, b):\n\u001b[1;32m----> 2\u001b[0m     \u001b[38;5;28;01mreturn\u001b[39;00m a \u001b[38;5;241m/\u001b[39m b\n",
      "\u001b[1;31mZeroDivisionError\u001b[0m: division by zero"
     ]
    }
   ],
   "source": [
    "def divide(a, b):\n",
    "    return a / b\n",
    "\n",
    "result = divide(10, 0)\n",
    "print(\"Result:\", result)\n"
   ]
  },
  {
   "cell_type": "markdown",
   "id": "0576477a-0591-4ec3-8a48-786f308c61c1",
   "metadata": {},
   "source": [
    "When you run this code, Python will raise a ZeroDivisionError because dividing by zero is not allowed. Since there's no try-except block to catch this exception, it will propagate up the call stack until it reaches the top level of the program. As a result, Python will terminate the program and print a traceback:"
   ]
  },
  {
   "cell_type": "code",
   "execution_count": 7,
   "id": "8077a47d-fffc-494f-a626-c446834f2b2f",
   "metadata": {},
   "outputs": [
    {
     "ename": "SyntaxError",
     "evalue": "invalid syntax. Perhaps you forgot a comma? (3319800931.py, line 1)",
     "output_type": "error",
     "traceback": [
      "\u001b[1;36m  Cell \u001b[1;32mIn[7], line 1\u001b[1;36m\u001b[0m\n\u001b[1;33m    Traceback (most recent call last):\u001b[0m\n\u001b[1;37m               ^\u001b[0m\n\u001b[1;31mSyntaxError\u001b[0m\u001b[1;31m:\u001b[0m invalid syntax. Perhaps you forgot a comma?\n"
     ]
    }
   ],
   "source": [
    "Traceback (most recent call last):\n",
    "  File \"example.py\", line 4, in <module>\n",
    "    result = divide(10, 0)\n",
    "  File \"example.py\", line 2, in divide\n",
    "    return a / b\n",
    "ZeroDivisionError: division by zero\n"
   ]
  },
  {
   "cell_type": "markdown",
   "id": "d20fa95d-eca7-40f9-9e48-34cb06c96194",
   "metadata": {},
   "source": [
    "This traceback indicates that the exception occurred in the divide function at line 2 of the file example.py, and it's a ZeroDivisionError. Since there's no handling of this exception, Python terminates the program."
   ]
  },
  {
   "cell_type": "raw",
   "id": "7ab4a761-4e7b-442c-abb6-7b49eb02db3b",
   "metadata": {},
   "source": [
    "Which Python statement are used to catch and handle exceptions? Explain with an example"
   ]
  },
  {
   "cell_type": "markdown",
   "id": "89e1e279-6d52-4d25-abd3-2168a2345f61",
   "metadata": {},
   "source": [
    "In Python, the try, except, else, and finally statements are used to catch and handle exceptions.\n",
    "\n",
    "Here's how they work:\n",
    "\n",
    "    try: This is the block of code where you anticipate exceptions might occur.\n",
    "    except: This block of code is executed if any exception occurs within the try block. You can specify which exceptions to catch, or catch all exceptions with a generic except block.\n",
    "    else: This block of code is executed if no exceptions occur in the try block.\n",
    "    finally: This block of code is always executed, regardless of whether an exception occurred or not. It's typically used to perform cleanup actions, like closing files or releasing resources.\n",
    "\n",
    "Here's an example to illustrate the usage of these statements:"
   ]
  },
  {
   "cell_type": "code",
   "execution_count": 8,
   "id": "04066ad2-49b6-424e-bb22-dda3d083f2b8",
   "metadata": {},
   "outputs": [
    {
     "name": "stdin",
     "output_type": "stream",
     "text": [
      "Enter a number:  0\n"
     ]
    },
    {
     "name": "stdout",
     "output_type": "stream",
     "text": [
      "Cannot divide by zero!\n",
      "Program execution completed.\n"
     ]
    }
   ],
   "source": [
    "try:\n",
    "    # Code where exceptions might occur\n",
    "    x = int(input(\"Enter a number: \"))\n",
    "    y = 10 / x\n",
    "except ZeroDivisionError:\n",
    "    # Handle division by zero exception\n",
    "    print(\"Cannot divide by zero!\")\n",
    "except ValueError:\n",
    "    # Handle invalid input exception (e.g., user enters a non-numeric value)\n",
    "    print(\"Please enter a valid number!\")\n",
    "else:\n",
    "    # This block is executed if no exceptions occurred in the try block\n",
    "    print(\"Division result:\", y)\n",
    "finally:\n",
    "    # This block is always executed, regardless of exceptions\n",
    "    print(\"Program execution completed.\")\n"
   ]
  },
  {
   "cell_type": "markdown",
   "id": "76037372-2594-4378-b62f-f3e57f9b9e43",
   "metadata": {},
   "source": [
    "Explanation:\n",
    "\n",
    "    In the try block, we attempt to get user input, convert it to an integer, and then perform a division operation.\n",
    "    If a ZeroDivisionError occurs (i.e., the user enters 0), the program will print \"Cannot divide by zero!\".\n",
    "    If a ValueError occurs (i.e., the user enters something that cannot be converted to an integer), the program will print \"Please enter a valid number!\".\n",
    "    If no exceptions occur, the else block is executed, and it prints the result of the division.\n",
    "    Finally, the finally block is executed, printing \"Program execution completed.\" This block is always executed, whether an exception occurred or not, making it useful for cleanup tasks."
   ]
  },
  {
   "cell_type": "raw",
   "id": "544c0e7c-54ab-49c2-a8de-47fc11b5a60c",
   "metadata": {},
   "source": [
    "Explain with an example: a) try and else b) finally c) raise"
   ]
  },
  {
   "cell_type": "markdown",
   "id": "4904bc02-c468-4a75-b33a-c41026a3f183",
   "metadata": {},
   "source": [
    "a) try and else\n",
    "\n",
    "The else block in a try-except statement is executed if no exceptions occur in the try block. It's useful when you want to execute some code only if no exceptions were raised."
   ]
  },
  {
   "cell_type": "code",
   "execution_count": 10,
   "id": "a639b64c-47b8-4156-8440-a1a0b170d710",
   "metadata": {},
   "outputs": [
    {
     "name": "stdin",
     "output_type": "stream",
     "text": [
      "Enter a number:  0\n"
     ]
    },
    {
     "name": "stdout",
     "output_type": "stream",
     "text": [
      "Cannot divide by zero!\n"
     ]
    }
   ],
   "source": [
    "try:\n",
    "    num = int(input(\"Enter a number: \"))\n",
    "    result = 10 / num\n",
    "except ZeroDivisionError:\n",
    "    print(\"Cannot divide by zero!\")\n",
    "else:\n",
    "    print(\"Division result:\", result)\n",
    "    print(\"No exceptions occurred.\")\n"
   ]
  },
  {
   "cell_type": "markdown",
   "id": "7deede4d-b6ee-4cf4-8da6-5454394e9fd8",
   "metadata": {},
   "source": [
    "Explanation:\n",
    "\n",
    "    The user is prompted to enter a number.\n",
    "    The entered number is converted to an integer and then used to perform a division operation.\n",
    "    If the user enters 0, a ZeroDivisionError occurs and the message \"Cannot divide by zero!\" is printed.\n",
    "    If the user enters a non-zero number, the division result is printed along with \"No exceptions occurred.\""
   ]
  },
  {
   "cell_type": "markdown",
   "id": "e9f6ba5a-a8bc-4760-b2eb-9f638c97460d",
   "metadata": {},
   "source": [
    "b) finally\n",
    "\n",
    "The finally block is always executed, whether an exception occurred or not. It's used for cleanup tasks like closing files or releasing resources."
   ]
  },
  {
   "cell_type": "code",
   "execution_count": 11,
   "id": "41922316-8efb-44ac-9458-61c3db58aef4",
   "metadata": {},
   "outputs": [
    {
     "name": "stdout",
     "output_type": "stream",
     "text": [
      "File not found!\n",
      "File operation completed.\n"
     ]
    }
   ],
   "source": [
    "try:\n",
    "    file = open(\"example.txt\", \"r\")\n",
    "    content = file.read()\n",
    "    print(content)\n",
    "except FileNotFoundError:\n",
    "    print(\"File not found!\")\n",
    "finally:\n",
    "    if 'file' in locals():\n",
    "        file.close()  # Close the file if it was opened\n",
    "    print(\"File operation completed.\")\n"
   ]
  },
  {
   "cell_type": "markdown",
   "id": "8db5b47f-49b9-43ef-9ba4-1479f50fd3b4",
   "metadata": {},
   "source": [
    "Explanation:\n",
    "\n",
    "    This code tries to open and read the contents of a file named \"example.txt\".\n",
    "    If the file does not exist (raises FileNotFoundError), it prints \"File not found!\".\n",
    "    The finally block ensures that the file is closed, regardless of whether an exception occurred or not. This is crucial for releasing system resources."
   ]
  },
  {
   "cell_type": "markdown",
   "id": "e3dd1409-fea7-47d0-af0c-268fb464eb40",
   "metadata": {},
   "source": [
    "c) raise\n",
    "\n",
    "raise statement is used to raise exceptions manually in Python. It's helpful when you want to create your own custom exceptions or re-raise exceptions with additional context."
   ]
  },
  {
   "cell_type": "code",
   "execution_count": 12,
   "id": "171145c5-4e2f-4295-be0b-d339a4d7dce1",
   "metadata": {},
   "outputs": [
    {
     "name": "stdin",
     "output_type": "stream",
     "text": [
      "Enter your age:  -9\n"
     ]
    },
    {
     "name": "stdout",
     "output_type": "stream",
     "text": [
      "Invalid age: Age cannot be negative\n"
     ]
    }
   ],
   "source": [
    "def validate_age(age):\n",
    "    if age < 0:\n",
    "        raise ValueError(\"Age cannot be negative\")\n",
    "    elif age < 18:\n",
    "        raise ValueError(\"Must be 18 or older to access this content\")\n",
    "    else:\n",
    "        print(\"Access granted\")\n",
    "\n",
    "try:\n",
    "    user_age = int(input(\"Enter your age: \"))\n",
    "    validate_age(user_age)\n",
    "except ValueError as ve:\n",
    "    print(\"Invalid age:\", ve)\n"
   ]
  },
  {
   "cell_type": "markdown",
   "id": "7dcad584-888b-49bf-86bd-c9e8204f38ea",
   "metadata": {},
   "source": [
    "Explanation:\n",
    "\n",
    "    This code defines a function validate_age(age) which checks if the given age is negative or less than 18, raising a ValueError with appropriate messages in such cases.\n",
    "    Inside the try block, it prompts the user to enter their age and calls the validate_age() function.\n",
    "    If the age entered by the user is invalid (less than 0 or less than 18), a ValueError is raised and caught in the except block, printing the appropriate error message."
   ]
  },
  {
   "cell_type": "raw",
   "id": "fc362519-276e-418b-ac6f-f645c056a0c2",
   "metadata": {},
   "source": [
    "What are Custom Exceptions in python? Why do we need Custom Exceptions? Explain with an example."
   ]
  },
  {
   "cell_type": "markdown",
   "id": "ca543edd-0aa3-4f18-8770-728e165f4bd3",
   "metadata": {},
   "source": [
    "Custom exceptions, also known as user-defined exceptions, are exceptions created by the programmer to represent specific error conditions in their code. They allow developers to define their own exceptional situations and provide meaningful error messages tailored to their application's requirements.\n",
    "Why do we need Custom Exceptions?\n",
    "\n",
    "    Clarity and Readability: Custom exceptions make your code more readable and self-explanatory. By defining specific exceptions for different error scenarios, it becomes easier to understand what went wrong and why.\n",
    "\n",
    "    Modularity and Maintainability: Custom exceptions help in modularizing code. Each module can define its own set of exceptions, making it easier to maintain and update the codebase.\n",
    "\n",
    "    Granular Error Handling: With custom exceptions, you can handle different error cases differently. This allows for more granular error handling, enabling your program to recover from certain errors while gracefully handling others.\n",
    "\n",
    "    Consistent Error Reporting: By using custom exceptions, you ensure that error messages are consistent across your application, improving the overall user experience and making debugging easier.\n",
    "\n",
    "Example of Custom Exceptions:\n",
    "\n",
    "Let's say you're building a banking application and you want to handle situations where a user attempts to withdraw more money than their account balance. You can create a custom exception to represent this scenario."
   ]
  },
  {
   "cell_type": "code",
   "execution_count": 13,
   "id": "4d3864ca-fdc0-4b6f-ae1e-2ae4effbd4ff",
   "metadata": {},
   "outputs": [
    {
     "name": "stdout",
     "output_type": "stream",
     "text": [
      "InsufficientFundsError: You attempted to withdraw $1500, but your balance is only $1000.\n"
     ]
    }
   ],
   "source": [
    "class InsufficientFundsError(Exception):\n",
    "    \"\"\"Exception raised when there are insufficient funds in the account.\"\"\"\n",
    "\n",
    "    def __init__(self, amount, balance):\n",
    "        super().__init__(f\"Insufficient funds: You attempted to withdraw ${amount}, but your balance is only ${balance}.\")\n",
    "        self.amount = amount\n",
    "        self.balance = balance\n",
    "\n",
    "    def __str__(self):\n",
    "        return f\"InsufficientFundsError: You attempted to withdraw ${self.amount}, but your balance is only ${self.balance}.\"\n",
    "\n",
    "\n",
    "class BankAccount:\n",
    "    def __init__(self, balance=0):\n",
    "        self.balance = balance\n",
    "\n",
    "    def withdraw(self, amount):\n",
    "        if amount > self.balance:\n",
    "            raise InsufficientFundsError(amount, self.balance)\n",
    "        else:\n",
    "            self.balance -= amount\n",
    "            print(f\"Withdrawal successful. Remaining balance: ${self.balance}\")\n",
    "\n",
    "\n",
    "# Example usage\n",
    "account = BankAccount(1000)\n",
    "try:\n",
    "    account.withdraw(1500)\n",
    "except InsufficientFundsError as e:\n",
    "    print(e)\n"
   ]
  },
  {
   "cell_type": "markdown",
   "id": "d879eba6-3627-4619-95b2-a6f034853c82",
   "metadata": {},
   "source": [
    "Explanation:\n",
    "\n",
    "    We define a custom exception InsufficientFundsError, which inherits from the built-in Exception class. This exception takes two parameters: amount (the amount the user attempted to withdraw) and balance (the current account balance).\n",
    "    Inside the BankAccount class, we define a withdraw method. If the withdrawal amount exceeds the account balance, it raises an InsufficientFundsError with the appropriate message.\n",
    "    In the example usage, we create a BankAccount instance with an initial balance of $1000. We then attempt to withdraw $1500. Since the balance is insufficient, it raises an InsufficientFundsError, which we catch and print along with the custom error message.\n",
    "\n",
    "Custom exceptions like InsufficientFundsError allow you to handle specific error cases in a clear and organized manner, enhancing the robustness and maintainability of your code."
   ]
  },
  {
   "cell_type": "raw",
   "id": "afffa3b2-7537-4580-8024-6a1b5f4ca87c",
   "metadata": {},
   "source": [
    "Create a custom exception class. Use this class yo handle an exceptions."
   ]
  },
  {
   "cell_type": "code",
   "execution_count": 14,
   "id": "ada897be-0ea9-4132-b397-8164e034e8e1",
   "metadata": {},
   "outputs": [
    {
     "name": "stdout",
     "output_type": "stream",
     "text": [
      "Error: Cannot calculate square root of a negative number\n"
     ]
    }
   ],
   "source": [
    "class CustomException(Exception):\n",
    "    \"\"\"Custom exception class.\"\"\"\n",
    "\n",
    "    def __init__(self, message):\n",
    "        super().__init__(message)\n",
    "\n",
    "\n",
    "def calculate_square_root(number):\n",
    "    if number < 0:\n",
    "        raise CustomException(\"Cannot calculate square root of a negative number\")\n",
    "    else:\n",
    "        return number ** 0.5\n",
    "\n",
    "\n",
    "# Example usage\n",
    "try:\n",
    "    result = calculate_square_root(-9)\n",
    "    print(\"Square root:\", result)\n",
    "except CustomException as ce:\n",
    "    print(\"Error:\", ce)\n"
   ]
  },
  {
   "cell_type": "markdown",
   "id": "87ab0931-c547-4eea-85bf-46364b9e0002",
   "metadata": {},
   "source": [
    "In this example:\n",
    "\n",
    "    We define a custom exception class CustomException, which inherits from the built-in Exception class. It takes a message parameter that is passed to the superclass's __init__ method.\n",
    "\n",
    "    We have a function calculate_square_root() that calculates the square root of a number. If the number is negative, it raises a CustomException with the message \"Cannot calculate square root of a negative number\".\n",
    "\n",
    "    In the example usage, we call calculate_square_root() with a negative number (-9). This triggers the custom exception, and we catch it using a try-except block. The exception's message is printed, informing us of the error."
   ]
  }
 ],
 "metadata": {
  "kernelspec": {
   "display_name": "Python 3 (ipykernel)",
   "language": "python",
   "name": "python3"
  },
  "language_info": {
   "codemirror_mode": {
    "name": "ipython",
    "version": 3
   },
   "file_extension": ".py",
   "mimetype": "text/x-python",
   "name": "python",
   "nbconvert_exporter": "python",
   "pygments_lexer": "ipython3",
   "version": "3.11.7"
  }
 },
 "nbformat": 4,
 "nbformat_minor": 5
}
