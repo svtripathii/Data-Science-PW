{
 "cells": [
  {
   "cell_type": "raw",
   "id": "974c67fd-1740-457a-a86a-5c7c6949be99",
   "metadata": {},
   "source": [
    "Q1) Explain why we have to use the Exception class while creating a custom Exception"
   ]
  },
  {
   "cell_type": "markdown",
   "id": "49948bd8-40bd-4b37-a16e-37a61a2d9d7a",
   "metadata": {},
   "source": [
    "Using the Exception class as a base while creating custom exceptions in programming languages like Python is a fundamental part of good coding practices. Here's why:\n",
    "\n",
    "    Consistency and Clarity: In object-oriented programming, consistency is key. By inheriting from the Exception class, you make it clear that your custom exception is indeed an exception. This helps maintain consistency across different parts of your codebase and makes it easier for other developers to understand and work with your code.\n",
    "\n",
    "    Error Handling: Exception classes come with built-in error handling mechanisms. When an exception occurs, the program looks for exception handlers up the call stack. By using the Exception class, you tap into this existing mechanism, ensuring that your custom exception can be caught and handled like any other exception.\n",
    "\n",
    "    Customization: The Exception class provides a basic structure that you can extend and customize according to your specific needs. You can define additional attributes and methods in your custom exception class to provide more information about the error and how to handle it.\n",
    "\n",
    "    Hierarchy: Exception classes often form a hierarchy, with more specific exceptions inheriting from more general ones. For example, in Python, ValueError is a subclass of Exception. By inheriting from Exception, you can place your custom exception within this hierarchy, making it clear where it fits in terms of specificity.\n",
    "\n",
    "    Interoperability: By following common conventions like inheriting from Exception, you make your code more interoperable with other libraries and frameworks. Other developers will expect custom exceptions to follow this convention, making it easier to integrate your code with theirs.\n",
    "\n",
    "    Documentation and Intention: It serves as a form of documentation for your code. When someone sees your custom exception, they immediately understand that it's meant to signal an exceptional situation. Using the Exception class makes your intention clear.\n",
    "\n",
    "    Future-Proofing: If you decide to change the handling or add features to your custom exceptions later, by having them inherit from Exception, you're already set up to work with whatever improvements you might make in the future.\n",
    "\n",
    "In short, using the Exception class as a base for custom exceptions provides a clear, consistent, and efficient way to handle errors and exceptional situations in your code, while also ensuring compatibility and readability."
   ]
  },
  {
   "cell_type": "raw",
   "id": "f7763ffa-b6fd-4976-bf07-fe75e7414e80",
   "metadata": {},
   "source": [
    "Q2) Write a python program to print Python Exception Hierarchy "
   ]
  },
  {
   "cell_type": "code",
   "execution_count": 1,
   "id": "8a3e151e-fb0c-4155-9f25-29ed6ba36deb",
   "metadata": {},
   "outputs": [
    {
     "name": "stdout",
     "output_type": "stream",
     "text": [
      "Python Exception Hierarchy:\n",
      "BaseException\n",
      "  BaseExceptionGroup\n",
      "    ExceptionGroup\n",
      "  Exception\n",
      "    ArithmeticError\n",
      "      FloatingPointError\n",
      "      OverflowError\n",
      "      ZeroDivisionError\n",
      "        DivisionByZero\n",
      "        DivisionUndefined\n",
      "      DecimalException\n",
      "        Clamped\n",
      "        Rounded\n",
      "          Underflow\n",
      "          Overflow\n",
      "        Inexact\n",
      "          Underflow\n",
      "          Overflow\n",
      "        Subnormal\n",
      "          Underflow\n",
      "        DivisionByZero\n",
      "        FloatOperation\n",
      "        InvalidOperation\n",
      "          ConversionSyntax\n",
      "          DivisionImpossible\n",
      "          DivisionUndefined\n",
      "          InvalidContext\n",
      "    AssertionError\n",
      "    AttributeError\n",
      "      FrozenInstanceError\n",
      "    BufferError\n",
      "    EOFError\n",
      "      IncompleteReadError\n",
      "    ImportError\n",
      "      ModuleNotFoundError\n",
      "        PackageNotFoundError\n",
      "      ZipImportError\n",
      "    LookupError\n",
      "      IndexError\n",
      "      KeyError\n",
      "        NoSuchKernel\n",
      "        UnknownBackend\n",
      "      CodecRegistryError\n",
      "    MemoryError\n",
      "    NameError\n",
      "      UnboundLocalError\n",
      "    OSError\n",
      "      BlockingIOError\n",
      "      ChildProcessError\n",
      "      ConnectionError\n",
      "        BrokenPipeError\n",
      "        ConnectionAbortedError\n",
      "        ConnectionRefusedError\n",
      "        ConnectionResetError\n",
      "          RemoteDisconnected\n",
      "      FileExistsError\n",
      "      FileNotFoundError\n",
      "      InterruptedError\n",
      "        InterruptedSystemCall\n",
      "      IsADirectoryError\n",
      "      NotADirectoryError\n",
      "      PermissionError\n",
      "      ProcessLookupError\n",
      "      TimeoutError\n",
      "      UnsupportedOperation\n",
      "      herror\n",
      "      gaierror\n",
      "      SSLError\n",
      "        SSLCertVerificationError\n",
      "        SSLZeroReturnError\n",
      "        SSLWantWriteError\n",
      "        SSLWantReadError\n",
      "        SSLSyscallError\n",
      "        SSLEOFError\n",
      "      Error\n",
      "        SameFileError\n",
      "      SpecialFileError\n",
      "      ExecError\n",
      "      ReadError\n",
      "      URLError\n",
      "        HTTPError\n",
      "        ContentTooShortError\n",
      "      BadGzipFile\n",
      "    ReferenceError\n",
      "    RuntimeError\n",
      "      NotImplementedError\n",
      "        ZMQVersionError\n",
      "        StdinNotImplementedError\n",
      "      RecursionError\n",
      "      _DeadlockError\n",
      "      BrokenBarrierError\n",
      "      BrokenExecutor\n",
      "        BrokenThreadPool\n",
      "      SendfileNotAvailableError\n",
      "      BrokenBarrierError\n",
      "      ExtractionError\n",
      "      VariableError\n",
      "    StopAsyncIteration\n",
      "    StopIteration\n",
      "    SyntaxError\n",
      "      IndentationError\n",
      "        TabError\n",
      "    SystemError\n",
      "      CodecRegistryError\n",
      "    TypeError\n",
      "      FloatOperation\n",
      "      MultipartConversionError\n",
      "    ValueError\n",
      "      UnicodeError\n",
      "        UnicodeDecodeError\n",
      "        UnicodeEncodeError\n",
      "        UnicodeTranslateError\n",
      "      UnsupportedOperation\n",
      "      JSONDecodeError\n",
      "      SSLCertVerificationError\n",
      "      Error\n",
      "      AddressValueError\n",
      "      NetmaskValueError\n",
      "      UnsupportedDigestmodError\n",
      "      IllegalMonthError\n",
      "      IllegalWeekdayError\n",
      "      ParserError\n",
      "      MessageDefect\n",
      "        NoBoundaryInMultipartDefect\n",
      "        StartBoundaryNotFoundDefect\n",
      "        CloseBoundaryNotFoundDefect\n",
      "        FirstHeaderLineIsContinuationDefect\n",
      "        MisplacedEnvelopeHeaderDefect\n",
      "        MissingHeaderBodySeparatorDefect\n",
      "        MultipartInvariantViolationDefect\n",
      "        InvalidMultipartContentTransferEncodingDefect\n",
      "        UndecodableBytesDefect\n",
      "        InvalidBase64PaddingDefect\n",
      "        InvalidBase64CharactersDefect\n",
      "        InvalidBase64LengthDefect\n",
      "        HeaderDefect\n",
      "          InvalidHeaderDefect\n",
      "          HeaderMissingRequiredValue\n",
      "          NonPrintableDefect\n",
      "          ObsoleteHeaderDefect\n",
      "          NonASCIILocalPartDefect\n",
      "          InvalidDateDefect\n",
      "      ClassNotFound\n",
      "      ClipboardEmpty\n",
      "      MacroToEdit\n",
      "      InvalidFileException\n",
      "      UnequalIterablesError\n",
      "      InvalidVersion\n",
      "      ELFInvalid\n",
      "      InvalidWheelFilename\n",
      "      InvalidSdistFilename\n",
      "      InvalidSpecifier\n",
      "      InvalidMarker\n",
      "      UndefinedComparison\n",
      "      UndefinedEnvironmentName\n",
      "      InvalidRequirement\n",
      "        RequirementParseError\n",
      "      InvalidVersion\n",
      "    Warning\n",
      "      BytesWarning\n",
      "      DeprecationWarning\n",
      "        ProvisionalWarning\n",
      "      EncodingWarning\n",
      "      FutureWarning\n",
      "        ProvisionalCompleterWarning\n",
      "      ImportWarning\n",
      "      PendingDeprecationWarning\n",
      "      ResourceWarning\n",
      "      RuntimeWarning\n",
      "        ProactorSelectorThreadWarning\n",
      "        UnknownTimezoneWarning\n",
      "        PEP440Warning\n",
      "      SyntaxWarning\n",
      "      UnicodeWarning\n",
      "      UserWarning\n",
      "        GetPassWarning\n",
      "        FormatterWarning\n",
      "      DeprecatedTzFormatWarning\n",
      "      PkgResourcesDeprecationWarning\n",
      "    ExceptionGroup\n",
      "    _OptionError\n",
      "    _Error\n",
      "    error\n",
      "    Error\n",
      "    SubprocessError\n",
      "      CalledProcessError\n",
      "      TimeoutExpired\n",
      "    ZMQBaseError\n",
      "      ZMQError\n",
      "        ContextTerminated\n",
      "        Again\n",
      "        InterruptedSystemCall\n",
      "      ZMQBindError\n",
      "      NotDone\n",
      "    Error\n",
      "    error\n",
      "    PickleError\n",
      "      PicklingError\n",
      "      UnpicklingError\n",
      "    _Stop\n",
      "    TokenError\n",
      "    StopTokenizing\n",
      "    Error\n",
      "      CancelledError\n",
      "      InvalidStateError\n",
      "    _GiveupOnSendfile\n",
      "    Incomplete\n",
      "    ClassFoundException\n",
      "    EndOfBlock\n",
      "    InvalidStateError\n",
      "    LimitOverrunError\n",
      "    QueueEmpty\n",
      "    QueueFull\n",
      "    error\n",
      "    LZMAError\n",
      "    RegistryError\n",
      "    _GiveupOnFastCopy\n",
      "    TraitError\n",
      "    Empty\n",
      "    Full\n",
      "    ArgumentError\n",
      "    COMError\n",
      "    ReturnValueIgnoredError\n",
      "    ArgumentError\n",
      "    ArgumentTypeError\n",
      "    ConfigError\n",
      "      ConfigLoaderError\n",
      "        ArgumentError\n",
      "      ConfigFileNotFound\n",
      "    ConfigurableError\n",
      "      MultipleInstanceError\n",
      "    ApplicationError\n",
      "    InvalidPortNumber\n",
      "    NoIPAddresses\n",
      "    Error\n",
      "    BadZipFile\n",
      "    LargeZipFile\n",
      "    MessageError\n",
      "      MessageParseError\n",
      "        HeaderParseError\n",
      "        BoundaryError\n",
      "      MultipartConversionError\n",
      "      CharsetError\n",
      "    DuplicateKernelError\n",
      "    ErrorDuringImport\n",
      "    NotOneValueFound\n",
      "    CannotEval\n",
      "    OptionError\n",
      "    BdbQuit\n",
      "    Restart\n",
      "    FindCmdError\n",
      "    HomeDirError\n",
      "    ProfileDirError\n",
      "    IPythonCoreError\n",
      "      TryNext\n",
      "      UsageError\n",
      "      StdinNotImplementedError\n",
      "    InputRejected\n",
      "    GetoptError\n",
      "    ErrorToken\n",
      "    PrefilterError\n",
      "    AliasError\n",
      "      InvalidAliasError\n",
      "    Error\n",
      "      InterfaceError\n",
      "      DatabaseError\n",
      "        InternalError\n",
      "        OperationalError\n",
      "        ProgrammingError\n",
      "        IntegrityError\n",
      "        DataError\n",
      "        NotSupportedError\n",
      "    Warning\n",
      "    SpaceInInput\n",
      "    DOMException\n",
      "      IndexSizeErr\n",
      "      DomstringSizeErr\n",
      "      HierarchyRequestErr\n",
      "      WrongDocumentErr\n",
      "      InvalidCharacterErr\n",
      "      NoDataAllowedErr\n",
      "      NoModificationAllowedErr\n",
      "      NotFoundErr\n",
      "      NotSupportedErr\n",
      "      InuseAttributeErr\n",
      "      InvalidStateErr\n",
      "      SyntaxErr\n",
      "      InvalidModificationErr\n",
      "      NamespaceErr\n",
      "      InvalidAccessErr\n",
      "      ValidationErr\n",
      "    ValidationError\n",
      "    EditReadOnlyBuffer\n",
      "    _Retry\n",
      "    InvalidLayoutError\n",
      "    HeightIsUnknownError\n",
      "    GuardRejection\n",
      "    ParserSyntaxError\n",
      "    InternalParseError\n",
      "    _PositionUpdatingFinished\n",
      "    SimpleGetItemNotFound\n",
      "    UncaughtAttributeError\n",
      "    HasNoContext\n",
      "    ParamIssue\n",
      "    _JediError\n",
      "      InternalError\n",
      "      WrongVersion\n",
      "      RefactoringError\n",
      "    OnErrorLeaf\n",
      "    InvalidPythonEnvironment\n",
      "    HTTPException\n",
      "      NotConnected\n",
      "      InvalidURL\n",
      "      UnknownProtocol\n",
      "      UnknownTransferEncoding\n",
      "      UnimplementedFileMode\n",
      "      IncompleteRead\n",
      "      ImproperConnectionState\n",
      "        CannotSendRequest\n",
      "        CannotSendHeader\n",
      "        ResponseNotReady\n",
      "      BadStatusLine\n",
      "        RemoteDisconnected\n",
      "      LineTooLong\n",
      "    InteractivelyDefined\n",
      "    KillEmbedded\n",
      "    Error\n",
      "      NoSuchProcess\n",
      "        ZombieProcess\n",
      "      AccessDenied\n",
      "      TimeoutExpired\n",
      "    Error\n",
      "    TimeoutExpired\n",
      "    TimeoutAbandoned\n",
      "    KeyReuseError\n",
      "    UnknownKeyError\n",
      "    LeakedCallbackError\n",
      "    BadYieldError\n",
      "    ReturnValueIgnoredError\n",
      "    Return\n",
      "    QueueEmpty\n",
      "    QueueFull\n",
      "    DebuggerInitializationError\n",
      "    ExpatError\n",
      "    Error\n",
      "      ProtocolError\n",
      "      ResponseError\n",
      "      Fault\n",
      "    ParserSyntaxError\n",
      "    ResolutionError\n",
      "      VersionConflict\n",
      "        ContextualVersionConflict\n",
      "      DistributionNotFound\n",
      "      UnknownExtra\n",
      "    _Error\n",
      "    UnableToResolveVariableException\n",
      "    InvalidTypeInArgsException\n",
      "  GeneratorExit\n",
      "  KeyboardInterrupt\n",
      "  SystemExit\n",
      "  CancelledError\n",
      "  AbortThread\n"
     ]
    }
   ],
   "source": [
    "def print_exception_hierarchy(exception, level=0):\n",
    "    print(\"  \" * level + exception.__name__)\n",
    "    for subclass in exception.__subclasses__():\n",
    "        print_exception_hierarchy(subclass, level + 1)\n",
    "\n",
    "print(\"Python Exception Hierarchy:\")\n",
    "print_exception_hierarchy(BaseException)\n"
   ]
  },
  {
   "cell_type": "markdown",
   "id": "35e6f1ff-258c-477a-abb4-6832b065b1ee",
   "metadata": {},
   "source": [
    "This program defines a function print_exception_hierarchy() that recursively prints the exception hierarchy starting from BaseException, the root of the hierarchy. It prints each exception class along with its subclasses, using indentation to show the hierarchy. Finally, it prints the hierarchy starting from BaseException."
   ]
  },
  {
   "cell_type": "raw",
   "id": "5f96f4a4-5a36-4c5c-b9ee-64d2864084d0",
   "metadata": {},
   "source": [
    "Q3) What error are defined in the ArithmeticError Class? Explain any two with an example"
   ]
  },
  {
   "cell_type": "markdown",
   "id": "4689b376-1b60-4d3e-8fc9-8e904d1b16e6",
   "metadata": {},
   "source": [
    "The ArithmeticError class in Python represents errors that occur during arithmetic operations. It is a base class for several arithmetic-related exceptions. Two such exceptions are ZeroDivisionError and OverflowError.\n",
    "\n",
    "    ZeroDivisionError:\n",
    "        This exception is raised when attempting to divide by zero.\n",
    "        It's quite common and straightforward.\n",
    "        Example:"
   ]
  },
  {
   "cell_type": "code",
   "execution_count": 2,
   "id": "a5ffb3f4-8525-4680-9077-5d75df2490b2",
   "metadata": {},
   "outputs": [
    {
     "name": "stdout",
     "output_type": "stream",
     "text": [
      "Error: division by zero\n"
     ]
    }
   ],
   "source": [
    "try:\n",
    "    result = 10 / 0\n",
    "except ZeroDivisionError as e:\n",
    "    print(\"Error:\", e)\n"
   ]
  },
  {
   "cell_type": "markdown",
   "id": "622acf51-5ca5-4655-9cc3-d72f26e354ab",
   "metadata": {},
   "source": [
    "OverflowError:\n",
    "\n",
    "    This exception is raised when a numerical operation exceeds the limits of its data type.\n",
    "    For example, if you try to represent a very large number beyond the maximum value that a particular numeric type can hold, you'll get this error.\n",
    "    Example:"
   ]
  },
  {
   "cell_type": "code",
   "execution_count": 3,
   "id": "cb84d746-706b-4ff5-80bc-f0070937fd3f",
   "metadata": {},
   "outputs": [],
   "source": [
    "try:\n",
    "    result = 2 ** 1000000\n",
    "except OverflowError as e:\n",
    "    print(\"Error:\", e)\n"
   ]
  },
  {
   "cell_type": "raw",
   "id": "c7662656-4490-498b-adcd-c5e0c931492d",
   "metadata": {},
   "source": [
    "Q4) Why LookupError class is used? Explain with an Example KeyError and IndexError"
   ]
  },
  {
   "cell_type": "markdown",
   "id": "db572635-e4e8-462b-938e-da1e4b04ec9b",
   "metadata": {},
   "source": [
    "The LookupError class in Python is used to handle errors related to looking up values in collections such as lists, dictionaries, or sequences. It's a base class for several lookup-related exceptions. Two such exceptions are KeyError and IndexError.\n",
    "\n",
    "    KeyError:\n",
    "        KeyError is raised when you try to access a dictionary with a key that doesn't exist.\n",
    "        It indicates that the key you're trying to access is not found in the dictionary.\n",
    "        Example:"
   ]
  },
  {
   "cell_type": "code",
   "execution_count": 4,
   "id": "f4e248f8-285a-4e97-af5e-fc53633d1f08",
   "metadata": {},
   "outputs": [
    {
     "name": "stdout",
     "output_type": "stream",
     "text": [
      "Error: 'd'\n"
     ]
    }
   ],
   "source": [
    "my_dict = {'a': 1, 'b': 2, 'c': 3}\n",
    "try:\n",
    "    value = my_dict['d']\n",
    "except KeyError as e:\n",
    "    print(\"Error:\", e)\n"
   ]
  },
  {
   "cell_type": "markdown",
   "id": "9f6035df-f199-4fe5-927d-df39a060c4f7",
   "metadata": {},
   "source": [
    "In this example, the key 'd' does not exist in the dictionary my_dict. When trying to access this key, Python raises a KeyError with the key itself ('d') as part of the error message."
   ]
  },
  {
   "cell_type": "markdown",
   "id": "6c361cf3-d7e6-4cef-a377-aa3f9fd23948",
   "metadata": {},
   "source": [
    "IndexError:\n",
    "\n",
    "    IndexError is raised when you try to access an index in a sequence (like a list or a string) that is out of range.\n",
    "    It indicates that the index you're trying to access doesn't exist in the sequence.\n",
    "    Example:"
   ]
  },
  {
   "cell_type": "code",
   "execution_count": 5,
   "id": "fbe17181-d480-400b-96bb-fc829eb48604",
   "metadata": {},
   "outputs": [
    {
     "name": "stdout",
     "output_type": "stream",
     "text": [
      "Error: list index out of range\n"
     ]
    }
   ],
   "source": [
    "my_list = [1, 2, 3]\n",
    "try:\n",
    "    value = my_list[3]\n",
    "except IndexError as e:\n",
    "    print(\"Error:\", e)\n"
   ]
  },
  {
   "cell_type": "markdown",
   "id": "ffab4d3c-5537-499b-b717-8d9fd45904a6",
   "metadata": {},
   "source": [
    "In this example, the list my_list contains only three elements (indices 0, 1, and 2). When trying to access index 3, which is out of range, Python raises an IndexError."
   ]
  },
  {
   "cell_type": "raw",
   "id": "8b096182-d136-4820-8991-6b569cce0e7b",
   "metadata": {},
   "source": [
    "Q5) Explain ImportError. What is ModuleNotFoundError?"
   ]
  },
  {
   "cell_type": "markdown",
   "id": "bea3bee2-680e-4d0c-b35d-fd75fd9b4bc8",
   "metadata": {},
   "source": [
    "ImportError and ModuleNotFoundError are both exceptions related to importing modules in Python, but they serve slightly different purposes.\n",
    "\n",
    "    ImportError:\n",
    "        ImportError is a general exception raised when an import statement fails to import a module or when a module's attributes cannot be accessed.\n",
    "        This exception can occur for various reasons, such as the module not being installed, the module being misspelled, or the module's code causing an error during import.\n",
    "        Example:"
   ]
  },
  {
   "cell_type": "code",
   "execution_count": 6,
   "id": "03a12bde-167b-4d73-9f47-89bb3c4cbfc3",
   "metadata": {},
   "outputs": [
    {
     "name": "stdout",
     "output_type": "stream",
     "text": [
      "Error: No module named 'non_existent_module'\n"
     ]
    }
   ],
   "source": [
    "try:\n",
    "    import non_existent_module\n",
    "except ImportError as e:\n",
    "    print(\"Error:\", e)\n"
   ]
  },
  {
   "cell_type": "markdown",
   "id": "32f6a5e9-7041-42e4-9d9f-1f513c282b6f",
   "metadata": {},
   "source": [
    "In this example, Python raises an ImportError because there's no module named non_existent_module available for import."
   ]
  },
  {
   "cell_type": "markdown",
   "id": "82d50a5b-ab2d-41d3-b9ae-91266772fad7",
   "metadata": {},
   "source": [
    "ModuleNotFoundError:\n",
    "\n",
    "    ModuleNotFoundError is a subclass of ImportError introduced in Python 3.6.\n",
    "    It specifically indicates that a module could not be found during import.\n",
    "    This is raised when the specified module cannot be located in the available search paths.\n",
    "    Example:"
   ]
  },
  {
   "cell_type": "code",
   "execution_count": 7,
   "id": "bcf33253-ddfb-44c6-8a8d-e97610982a91",
   "metadata": {},
   "outputs": [
    {
     "name": "stdout",
     "output_type": "stream",
     "text": [
      "Error: No module named 'non_existent_module'\n"
     ]
    }
   ],
   "source": [
    "try:\n",
    "    import non_existent_module\n",
    "except ModuleNotFoundError as e:\n",
    "    print(\"Error:\", e)\n"
   ]
  },
  {
   "cell_type": "markdown",
   "id": "ff65ffa7-49d3-4a7e-9987-e80306b360d1",
   "metadata": {},
   "source": [
    "The output is the same as the ImportError example because ModuleNotFoundError is a subclass of ImportError. In Python 3.6 and later, ModuleNotFoundError is preferred to provide more specific information about the error."
   ]
  },
  {
   "cell_type": "raw",
   "id": "ccc7ea14-5fe6-48f6-9e66-44b0902493d8",
   "metadata": {},
   "source": [
    "Q6) List down some best practice for exception handling in python"
   ]
  },
  {
   "cell_type": "markdown",
   "id": "5cdd2bbd-7baa-479b-a473-2ee09d2124a6",
   "metadata": {},
   "source": [
    "Specificity:\n",
    "\n",
    "    Be specific about the exceptions you catch. Catching broad exceptions like Exception can mask errors and make debugging more difficult.\n",
    "    Only catch exceptions you can handle or expect. Let unexpected exceptions propagate to the caller"
   ]
  },
  {
   "cell_type": "code",
   "execution_count": 8,
   "id": "8f37222f-fa7f-4da4-b31d-450bb6b2c28b",
   "metadata": {},
   "outputs": [
    {
     "ename": "IndentationError",
     "evalue": "expected an indented block after 'try' statement on line 1 (2113350880.py, line 3)",
     "output_type": "error",
     "traceback": [
      "\u001b[1;36m  Cell \u001b[1;32mIn[8], line 3\u001b[1;36m\u001b[0m\n\u001b[1;33m    except SpecificException as e:\u001b[0m\n\u001b[1;37m    ^\u001b[0m\n\u001b[1;31mIndentationError\u001b[0m\u001b[1;31m:\u001b[0m expected an indented block after 'try' statement on line 1\n"
     ]
    }
   ],
   "source": [
    "try:\n",
    "    # Code that may raise specific exceptions\n",
    "except SpecificException as e:\n",
    "    # Handle SpecificException\n",
    "except AnotherSpecificException as e:\n",
    "    # Handle AnotherSpecificException\n"
   ]
  },
  {
   "cell_type": "markdown",
   "id": "4a02296c-2d77-4a93-8337-354a76e5abc4",
   "metadata": {},
   "source": [
    "Use finally for Cleanup:\n",
    "\n",
    "    Use finally to ensure cleanup code runs whether an exception occurs or not.\n",
    "    Commonly used for closing files, releasing resources, or cleaning up database connections."
   ]
  },
  {
   "cell_type": "code",
   "execution_count": 9,
   "id": "298897ab-177f-4204-a572-d79261b41162",
   "metadata": {},
   "outputs": [
    {
     "ename": "IndentationError",
     "evalue": "expected an indented block after 'try' statement on line 1 (4001570648.py, line 3)",
     "output_type": "error",
     "traceback": [
      "\u001b[1;36m  Cell \u001b[1;32mIn[9], line 3\u001b[1;36m\u001b[0m\n\u001b[1;33m    except SomeException as e:\u001b[0m\n\u001b[1;37m    ^\u001b[0m\n\u001b[1;31mIndentationError\u001b[0m\u001b[1;31m:\u001b[0m expected an indented block after 'try' statement on line 1\n"
     ]
    }
   ],
   "source": [
    "try:\n",
    "    # Code that may raise exceptions\n",
    "except SomeException as e:\n",
    "    # Handle SomeException\n",
    "finally:\n",
    "    # Cleanup code\n"
   ]
  },
  {
   "cell_type": "markdown",
   "id": "2dfe7497-45e9-4e75-ab0c-3c7c17f70b85",
   "metadata": {},
   "source": [
    "Avoid Bare except:\n",
    "\n",
    "    Avoid using bare except unless absolutely necessary, as it can catch unexpected errors and hide bugs.\n",
    "    If you must catch all exceptions, log the error for debugging purposes."
   ]
  },
  {
   "cell_type": "code",
   "execution_count": 10,
   "id": "c8dc7b96-c709-4bb4-9f80-e7d0fc44eea4",
   "metadata": {},
   "outputs": [
    {
     "ename": "IndentationError",
     "evalue": "expected an indented block after 'try' statement on line 1 (3252043882.py, line 3)",
     "output_type": "error",
     "traceback": [
      "\u001b[1;36m  Cell \u001b[1;32mIn[10], line 3\u001b[1;36m\u001b[0m\n\u001b[1;33m    except Exception as e:\u001b[0m\n\u001b[1;37m    ^\u001b[0m\n\u001b[1;31mIndentationError\u001b[0m\u001b[1;31m:\u001b[0m expected an indented block after 'try' statement on line 1\n"
     ]
    }
   ],
   "source": [
    "try:\n",
    "    # Code that may raise exceptions\n",
    "except Exception as e:\n",
    "    # Log the error\n",
    "    logger.error(f\"An unexpected error occurred: {e}\")\n",
    "    # Optionally re-raise the exception\n",
    "    raise\n"
   ]
  },
  {
   "cell_type": "markdown",
   "id": "ad9a6602-279b-4abd-9970-3ebdc548bf40",
   "metadata": {},
   "source": [
    "Logging:\n",
    "\n",
    "    Use logging to record exception details. This helps with debugging and understanding the cause of errors.\n",
    "    Log exceptions at an appropriate level based on severity."
   ]
  },
  {
   "cell_type": "code",
   "execution_count": 11,
   "id": "31fdb278-c4bb-47a5-b132-3d784dbdcf8c",
   "metadata": {},
   "outputs": [
    {
     "ename": "IndentationError",
     "evalue": "expected an indented block after 'try' statement on line 3 (1026249635.py, line 5)",
     "output_type": "error",
     "traceback": [
      "\u001b[1;36m  Cell \u001b[1;32mIn[11], line 5\u001b[1;36m\u001b[0m\n\u001b[1;33m    except Exception as e:\u001b[0m\n\u001b[1;37m    ^\u001b[0m\n\u001b[1;31mIndentationError\u001b[0m\u001b[1;31m:\u001b[0m expected an indented block after 'try' statement on line 3\n"
     ]
    }
   ],
   "source": [
    "import logging\n",
    "\n",
    "try:\n",
    "    # Code that may raise exceptions\n",
    "except Exception as e:\n",
    "    logging.exception(\"An error occurred:\")\n"
   ]
  },
  {
   "cell_type": "markdown",
   "id": "73509b4e-e14a-42a2-ada3-f6d9534c589c",
   "metadata": {},
   "source": [
    "Custom Exceptions:\n",
    "\n",
    "    Define custom exceptions to represent specific error conditions in your application.\n",
    "    Subclass built-in exceptions or create entirely new ones as needed."
   ]
  },
  {
   "cell_type": "code",
   "execution_count": 12,
   "id": "6511d7fb-c7e5-4260-a2b6-05f4a145361d",
   "metadata": {},
   "outputs": [
    {
     "ename": "SyntaxError",
     "evalue": "incomplete input (1861406315.py, line 8)",
     "output_type": "error",
     "traceback": [
      "\u001b[1;36m  Cell \u001b[1;32mIn[12], line 8\u001b[1;36m\u001b[0m\n\u001b[1;33m    # Handle CustomError\u001b[0m\n\u001b[1;37m                        ^\u001b[0m\n\u001b[1;31mSyntaxError\u001b[0m\u001b[1;31m:\u001b[0m incomplete input\n"
     ]
    }
   ],
   "source": [
    "class CustomError(Exception):\n",
    "    pass\n",
    "\n",
    "try:\n",
    "    if condition:\n",
    "        raise CustomError(\"Custom error message\")\n",
    "except CustomError as e:\n",
    "    # Handle CustomError\n"
   ]
  },
  {
   "cell_type": "markdown",
   "id": "97e30577-c119-4fac-86fb-0158fb35277c",
   "metadata": {},
   "source": [
    "Handle Exceptions Locally:\n",
    "\n",
    "    Handle exceptions as close to the source of the error as possible.\n",
    "    This helps maintain clarity and keeps error-handling logic close to the code that raises the exception."
   ]
  },
  {
   "cell_type": "code",
   "execution_count": 13,
   "id": "a7300a12-66be-4bd2-a755-29bd090ceb71",
   "metadata": {},
   "outputs": [
    {
     "ename": "IndentationError",
     "evalue": "expected an indented block after 'try' statement on line 2 (619228788.py, line 4)",
     "output_type": "error",
     "traceback": [
      "\u001b[1;36m  Cell \u001b[1;32mIn[13], line 4\u001b[1;36m\u001b[0m\n\u001b[1;33m    except SpecificException as e:\u001b[0m\n\u001b[1;37m    ^\u001b[0m\n\u001b[1;31mIndentationError\u001b[0m\u001b[1;31m:\u001b[0m expected an indented block after 'try' statement on line 2\n"
     ]
    }
   ],
   "source": [
    "def some_function():\n",
    "    try:\n",
    "        # Code that may raise exceptions\n",
    "    except SpecificException as e:\n",
    "        # Handle SpecificException\n",
    "\n",
    "def main():\n",
    "    try:\n",
    "        some_function()\n",
    "    except SpecificException as e:\n",
    "        # Handle SpecificException\n"
   ]
  },
  {
   "cell_type": "markdown",
   "id": "79e3e975-17bb-4e9f-abd2-1a43c7d679e3",
   "metadata": {},
   "source": [
    "Documentation:\n",
    "\n",
    "    Document expected exceptions in function/method docstrings.\n",
    "    Describe the conditions that might lead to each exception being raised."
   ]
  },
  {
   "cell_type": "code",
   "execution_count": 14,
   "id": "db9a4bae-9319-43e0-aee7-f62b17937dfb",
   "metadata": {},
   "outputs": [],
   "source": [
    "def some_function():\n",
    "    \"\"\"Perform some operation.\n",
    "\n",
    "    Raises:\n",
    "        ValueError: If input is invalid.\n",
    "        IOError: If unable to read file.\n",
    "    \"\"\"\n",
    "    pass\n"
   ]
  },
  {
   "cell_type": "markdown",
   "id": "1b13a815-39da-4d01-ae9e-178351aa175d",
   "metadata": {},
   "source": [
    "Graceful Degradation:\n",
    "\n",
    "    Provide graceful degradation when handling exceptions, especially in applications where reliability is critical.\n",
    "    When appropriate, continue execution with default values or alternative methods."
   ]
  },
  {
   "cell_type": "code",
   "execution_count": 15,
   "id": "87e8f911-c140-44c4-ba41-5bab99947898",
   "metadata": {},
   "outputs": [
    {
     "ename": "IndentationError",
     "evalue": "expected an indented block after 'try' statement on line 1 (2975153830.py, line 3)",
     "output_type": "error",
     "traceback": [
      "\u001b[1;36m  Cell \u001b[1;32mIn[15], line 3\u001b[1;36m\u001b[0m\n\u001b[1;33m    except SomeException as e:\u001b[0m\n\u001b[1;37m    ^\u001b[0m\n\u001b[1;31mIndentationError\u001b[0m\u001b[1;31m:\u001b[0m expected an indented block after 'try' statement on line 1\n"
     ]
    }
   ],
   "source": [
    "try:\n",
    "    # Attempt risky operation\n",
    "except SomeException as e:\n",
    "    # Log the error and continue with a fallback plan\n",
    "    logger.error(\"An error occurred: %s\", e)\n",
    "    # Use default values or alternative methods\n",
    "    fallback_result = get_default_value()\n"
   ]
  },
  {
   "cell_type": "code",
   "execution_count": null,
   "id": "78d01a99-4f97-4e1a-98b0-05b86e5bcc97",
   "metadata": {},
   "outputs": [],
   "source": []
  }
 ],
 "metadata": {
  "kernelspec": {
   "display_name": "Python 3 (ipykernel)",
   "language": "python",
   "name": "python3"
  },
  "language_info": {
   "codemirror_mode": {
    "name": "ipython",
    "version": 3
   },
   "file_extension": ".py",
   "mimetype": "text/x-python",
   "name": "python",
   "nbconvert_exporter": "python",
   "pygments_lexer": "ipython3",
   "version": "3.11.7"
  }
 },
 "nbformat": 4,
 "nbformat_minor": 5
}
