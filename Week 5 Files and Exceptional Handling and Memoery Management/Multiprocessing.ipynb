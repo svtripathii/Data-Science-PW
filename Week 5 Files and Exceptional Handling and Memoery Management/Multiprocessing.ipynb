{
 "cells": [
  {
   "cell_type": "raw",
   "id": "1124d2d1-6fbf-4b83-ab25-10ed5c6db2ee",
   "metadata": {},
   "source": [
    "Q1) What is multiprocessing in python? Why is it useful?"
   ]
  },
  {
   "cell_type": "markdown",
   "id": "5febd35d-03d3-4822-826a-3b3e4e795fad",
   "metadata": {},
   "source": [
    "Multiprocessing in Python refers to the ability to create and manage multiple processes to execute tasks concurrently. Each process runs independently and has its own memory space, allowing true parallelism, unlike multithreading, which is limited by the Global Interpreter Lock (GIL) in Python.\n",
    "\n",
    "Here's why multiprocessing is useful:\n",
    "\n",
    "    True Parallelism: Multiprocessing allows Python programs to take advantage of multiple CPU cores, enabling true parallel execution of tasks. Each process runs in its own memory space, avoiding the limitations of the GIL in Python's multithreading.\n",
    "\n",
    "    Improved Performance: By distributing tasks across multiple processes, multiprocessing can significantly speed up the execution of CPU-bound tasks, such as heavy computations or data processing.\n",
    "\n",
    "    Isolation: Each process has its own memory space, preventing interference between processes. This isolation makes multiprocessing ideal for tasks that require independent and isolated execution.\n",
    "\n",
    "    Fault Tolerance: Since each process runs independently, errors or crashes in one process do not affect the execution of other processes. This enhances fault tolerance and stability in multiprocessing applications.\n",
    "\n",
    "    Resource Utilization: Multiprocessing allows better utilization of available system resources, particularly on multi-core systems, by distributing tasks across multiple processes.\n",
    "\n",
    "    Scaling: Multiprocessing provides a scalable solution for handling computationally intensive tasks. As the number of CPU cores increases, the performance gains from multiprocessing also increase proportionally."
   ]
  },
  {
   "cell_type": "raw",
   "id": "0d1b332f-f7f6-4bbb-b4da-903246733be1",
   "metadata": {},
   "source": [
    "Q2) What are the difference between multiprocessing and multithrerading?"
   ]
  },
  {
   "cell_type": "markdown",
   "id": "ee8b3b75-101d-450f-833a-ec867b2bf247",
   "metadata": {},
   "source": [
    "Multiprocessing and multithreading are both techniques used to achieve concurrency and parallelism in Python, but they differ in several key aspects:\n",
    "\n",
    "    Execution Model:\n",
    "        Multiprocessing: In multiprocessing, multiple processes run concurrently, each with its own memory space and resources. Processes are independent of each other and do not share memory unless explicitly specified. Multiprocessing achieves true parallelism by utilizing multiple CPU cores.\n",
    "        Multithreading: In multithreading, multiple threads run concurrently within the same process, sharing the same memory space and resources. Threads within the same process can share data easily but must coordinate access to shared resources to avoid data corruption. Multithreading can achieve concurrency but is limited by the Global Interpreter Lock (GIL) in CPython, preventing true parallelism.\n",
    "\n",
    "    Concurrency vs. Parallelism:\n",
    "        Concurrency: Both multiprocessing and multithreading allow multiple tasks to be executed concurrently, where tasks can start, run, and complete in overlapping time periods. Concurrency is useful for tasks that involve I/O-bound operations, where threads or processes can overlap their execution while waiting for I/O operations to complete.\n",
    "        Parallelism: Multiprocessing achieves true parallelism by executing tasks simultaneously across multiple CPU cores. Each process runs independently and can execute tasks in parallel without interference. Multithreading can achieve concurrency but not true parallelism due to the GIL, which restricts the execution of Python bytecode to a single thread at a time.\n",
    "\n",
    "    Memory and Communication:\n",
    "        Multiprocessing: Processes have separate memory spaces and communicate through inter-process communication (IPC) mechanisms like pipes, queues, shared memory, or sockets. Communication between processes is more complex but safer, as processes are isolated from each other.\n",
    "        Multithreading: Threads share the same memory space, allowing them to access shared data directly. However, this requires careful synchronization to avoid race conditions and data corruption. Communication between threads is simpler but can be prone to synchronization issues.\n",
    "\n",
    "    Resource Overhead:\n",
    "        Multiprocessing: Creating and managing processes typically incurs higher overhead in terms of memory and system resources compared to threads. Each process has its own memory space and system resources, which can lead to higher memory usage.\n",
    "        Multithreading: Threads within the same process share memory and resources, resulting in lower overhead compared to processes. However, threads must contend for shared resources, which can lead to synchronization overhead and potential performance bottlenecks.\n",
    "\n",
    "    Fault Isolation:\n",
    "        Multiprocessing: Since each process runs independently, errors or crashes in one process do not affect others. Fault isolation is stronger in multiprocessing, making it more suitable for tasks requiring robustness and fault tolerance.\n",
    "        Multithreading: Errors in one thread can potentially affect the entire process, as threads share the same memory space. Debugging and isolating errors in multithreaded applications can be more challenging."
   ]
  },
  {
   "cell_type": "raw",
   "id": "e1a3da00-0a78-4e49-9acd-7f7ecd83caa3",
   "metadata": {},
   "source": [
    "Q3) Write a python code to create a process using the multiprocessing module."
   ]
  },
  {
   "cell_type": "code",
   "execution_count": 2,
   "id": "6af0f1c0-7586-48bc-8790-2928231771e2",
   "metadata": {},
   "outputs": [
    {
     "name": "stdout",
     "output_type": "stream",
     "text": [
      "Main process ID: 1848\n"
     ]
    }
   ],
   "source": [
    "import multiprocessing\n",
    "import os\n",
    "\n",
    "# Function to print process ID\n",
    "def print_process_id():\n",
    "    print(\"Process ID:\", os.getpid())\n",
    "\n",
    "if __name__ == \"__main__\":\n",
    "    # Create a multiprocessing process\n",
    "    process = multiprocessing.Process(target=print_process_id)\n",
    "\n",
    "    # Start the process\n",
    "    process.start()\n",
    "\n",
    "    # Wait for the process to finish\n",
    "    process.join()\n",
    "\n",
    "    print(\"Main process ID:\", os.getpid())\n"
   ]
  },
  {
   "cell_type": "markdown",
   "id": "6dbb7711-3c08-48a6-b484-530b3f3d08d0",
   "metadata": {},
   "source": [
    "In this code:\n",
    "\n",
    "    We import the multiprocessing module and the os module, which allows us to access process-related functions.\n",
    "    We define a function print_process_id() that simply prints the process ID (os.getpid()).\n",
    "    We use the multiprocessing.Process() constructor to create a multiprocessing process. We pass the target function (print_process_id) to be executed by the process.\n",
    "    We start the process using the start() method.\n",
    "    We wait for the process to finish using the join() method. This ensures that the main process waits for the child process to complete its execution.\n",
    "    Finally, we print the process ID of the main process."
   ]
  },
  {
   "cell_type": "raw",
   "id": "8a5fd161-46c8-4b25-a9d4-40e270724338",
   "metadata": {},
   "source": [
    "Q4) What is a multiprocessing pool in python? Why is it used?"
   ]
  },
  {
   "cell_type": "markdown",
   "id": "37e4d723-4d3c-4c0a-885a-0691e2bf7b8c",
   "metadata": {},
   "source": [
    "A multiprocessing pool in Python is a mechanism provided by the multiprocessing module to manage a pool of worker processes. It is used to parallelize the execution of a function across multiple processes by distributing the workload among the available CPU cores. The pool manages the creation and management of worker processes, making it easier to perform parallel computations and handle multiple tasks concurrently.\n",
    "\n",
    "Here's how a multiprocessing pool works:\n",
    "\n",
    "    Creation of Worker Processes:\n",
    "        When you create a multiprocessing pool, you specify the number of worker processes to be created.\n",
    "        The pool automatically creates the specified number of worker processes, usually equal to the number of CPU cores available on the system.\n",
    "\n",
    "    Distribution of Tasks:\n",
    "        You can submit tasks (functions) to the pool for execution using various methods such as map(), apply(), or apply_async().\n",
    "        The pool distributes these tasks among the worker processes, ensuring that each task is executed concurrently by a separate process.\n",
    "\n",
    "    Execution of Tasks:\n",
    "        Each worker process executes the assigned task independently and concurrently with other processes.\n",
    "        The results of the tasks are collected and returned to the main process.\n",
    "\n",
    "    Management of Worker Processes:\n",
    "        The pool manages the lifecycle of worker processes, including creation, execution of tasks, and termination.\n",
    "        Worker processes are reused for subsequent tasks, reducing the overhead of process creation and termination.\n",
    "\n",
    "Multiprocessing pools are useful for several reasons:\n",
    "\n",
    "    Parallel Execution: Multiprocessing pools enable parallel execution of tasks across multiple CPU cores, allowing you to utilize the full computational power of the system.\n",
    "\n",
    "    Improved Performance: By distributing tasks among multiple processes, multiprocessing pools can significantly speed up the execution of CPU-bound tasks, such as heavy computations or data processing.\n",
    "\n",
    "    Simplified Parallelism: The pool abstracts away the complexities of process management, making it easier to parallelize tasks without having to manage individual processes manually.\n",
    "\n",
    "    Scalability: Multiprocessing pools provide a scalable solution for handling computationally intensive tasks. As the number of CPU cores increases, the performance gains from multiprocessing also increase proportionally."
   ]
  },
  {
   "cell_type": "raw",
   "id": "60444b7c-fe8c-4f71-8593-9bab34fb146b",
   "metadata": {},
   "source": [
    "Q5) How can we create a pool of worker processes in python using the multiprocessing module?"
   ]
  },
  {
   "cell_type": "code",
   "execution_count": null,
   "id": "7263b023-d5f5-478a-a489-2af615aa9592",
   "metadata": {},
   "outputs": [],
   "source": [
    "import multiprocessing\n",
    "\n",
    "def worker_function(argument):\n",
    "    \"\"\"Function to be executed by worker processes.\"\"\"\n",
    "    # Process the argument here\n",
    "    result = argument ** 2\n",
    "    return result\n",
    "\n",
    "if __name__ == \"__main__\":\n",
    "    # Create a multiprocessing pool with 4 worker processes\n",
    "    pool = multiprocessing.Pool(processes=4)\n",
    "\n",
    "    # Define a list of arguments\n",
    "    arguments = [1, 2, 3, 4, 5]\n",
    "\n",
    "    # Apply the worker function to each argument using the pool\n",
    "    results = pool.map(worker_function, arguments)\n",
    "\n",
    "    # Close the pool (no more tasks can be submitted)\n",
    "    pool.close()\n",
    "\n",
    "    # Wait for all processes in the pool to complete\n",
    "    pool.join()\n",
    "\n",
    "    # Print the results\n",
    "    print(\"Results:\", results)\n"
   ]
  },
  {
   "cell_type": "markdown",
   "id": "d5423c06-2ed6-477c-b033-abcc10e3aced",
   "metadata": {},
   "source": [
    "Let's break down the code:\n",
    "\n",
    "    We import the multiprocessing module.\n",
    "\n",
    "    We define a function worker_function that represents the task to be performed by each worker process. In this case, it squares the given argument.\n",
    "\n",
    "    Inside the if __name__ == \"__main__\": block (which ensures that the code inside it is only executed when the script is run directly, not when it's imported), we create a multiprocessing pool using multiprocessing.Pool(processes=4) to create a pool of 4 worker processes.\n",
    "\n",
    "    We define a list of arguments (arguments) for the worker function.\n",
    "\n",
    "    We use the pool.map() method to apply the worker_function to each argument in the arguments list. This distributes the tasks among the worker processes in the pool.\n",
    "\n",
    "    We close the pool using pool.close() to indicate that no more tasks will be submitted to the pool.\n",
    "\n",
    "    We use pool.join() to wait for all processes in the pool to complete their tasks.\n",
    "\n",
    "    Finally, we print the results."
   ]
  },
  {
   "cell_type": "raw",
   "id": "8c9c6a8e-e0f0-4884-919b-8ac75206108a",
   "metadata": {},
   "source": [
    "Q6) Write a python program to create 4 processes, each process should print  different number using the multiprocessing module in python."
   ]
  },
  {
   "cell_type": "code",
   "execution_count": null,
   "id": "bd6005c3-c884-4e38-8ca8-97409904dcaf",
   "metadata": {},
   "outputs": [],
   "source": [
    "import multiprocessing\n",
    "\n",
    "def print_number(number):\n",
    "    \"\"\"Function to print the given number.\"\"\"\n",
    "    print(\"Process ID:\", multiprocessing.current_process().pid, \"- Number:\", number)\n",
    "\n",
    "if __name__ == \"__main__\":\n",
    "    # Define a list of numbers\n",
    "    numbers = [1, 2, 3, 4]\n",
    "\n",
    "    # Create a list to store the processes\n",
    "    processes = []\n",
    "\n",
    "    # Create a process for each number\n",
    "    for num in numbers:\n",
    "        process = multiprocessing.Process(target=print_number, args=(num,))\n",
    "        processes.append(process)\n",
    "        process.start()\n",
    "\n",
    "    # Wait for all processes to finish\n",
    "    for process in processes:\n",
    "        process.join()\n"
   ]
  },
  {
   "cell_type": "markdown",
   "id": "20be970d-644b-42b9-9972-f2a7b6b3b663",
   "metadata": {},
   "source": [
    "In this program:\n",
    "\n",
    "    We import the multiprocessing module.\n",
    "\n",
    "    We define a function print_number that prints the given number along with the process ID.\n",
    "\n",
    "    Inside the if __name__ == \"__main__\": block, we define a list of numbers.\n",
    "\n",
    "    We create a list processes to store the processes.\n",
    "\n",
    "    We loop through each number in the numbers list, create a process for each number using multiprocessing.Process, passing print_number as the target function and the number as the argument, and then start the process.\n",
    "\n",
    "    We add each process to the processes list.\n",
    "\n",
    "    We wait for all processes to finish by using process.join() for each process in the processes list."
   ]
  }
 ],
 "metadata": {
  "kernelspec": {
   "display_name": "Python 3 (ipykernel)",
   "language": "python",
   "name": "python3"
  },
  "language_info": {
   "codemirror_mode": {
    "name": "ipython",
    "version": 3
   },
   "file_extension": ".py",
   "mimetype": "text/x-python",
   "name": "python",
   "nbconvert_exporter": "python",
   "pygments_lexer": "ipython3",
   "version": "3.11.7"
  }
 },
 "nbformat": 4,
 "nbformat_minor": 5
}
