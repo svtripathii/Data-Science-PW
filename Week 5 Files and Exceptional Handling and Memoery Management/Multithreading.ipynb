{
 "cells": [
  {
   "cell_type": "raw",
   "id": "0aa90746-304c-4a8b-8b97-4fcfdfa57cac",
   "metadata": {},
   "source": [
    "Q1) What is multithreading in python? Why is its used? Name the module used to handle threads in python."
   ]
  },
  {
   "cell_type": "markdown",
   "id": "46e20d0b-7d40-431e-b97b-970767ba5671",
   "metadata": {},
   "source": [
    "Multithreading in Python refers to the ability of a program to execute multiple threads concurrently. A thread is the smallest unit of execution within a process. Multithreading allows a program to perform multiple tasks simultaneously, thus improving efficiency and responsiveness.\n",
    "\n",
    "In Python, multithreading is used for:\n",
    "\n",
    "    Concurrency: Multithreading enables multiple tasks to be executed concurrently, allowing a program to make better use of available system resources and potentially speed up execution.\n",
    "\n",
    "    Responsive GUIs: In graphical user interface (GUI) applications, multithreading helps maintain responsiveness by allowing time-consuming tasks (like I/O operations or processing large data) to be executed in separate threads, preventing the UI from becoming unresponsive.\n",
    "\n",
    "    I/O-Bound Tasks: Multithreading is beneficial for I/O-bound tasks such as reading from or writing to files, network operations, and database queries. While one thread is waiting for I/O to complete, other threads can continue executing, making efficient use of CPU resources.\n",
    "\n",
    "    Parallelism: Although Python's Global Interpreter Lock (GIL) prevents true parallel execution of multiple threads due to limitations in CPython's memory management, multithreading can still provide benefits in certain cases, especially for CPU-bound tasks, by allowing threads to run concurrently on multiple cores.\n",
    "\n",
    "The module used to handle threads in Python is called threading. It provides a high-level interface for creating and managing threads. Here's an example of how to use the threading module to create and start a simple thread:"
   ]
  },
  {
   "cell_type": "code",
   "execution_count": 1,
   "id": "24164aed-1cd5-44f2-82de-c65b7a4a660a",
   "metadata": {},
   "outputs": [
    {
     "name": "stdout",
     "output_type": "stream",
     "text": [
      "Thread-5 (print_numbers) 0\n",
      "Thread-5 (print_numbers) 1\n",
      "Thread-5 (print_numbers) 2\n",
      "Thread-5 (print_numbers) 3\n",
      "Thread-5 (print_numbers) 4\n",
      "Main thread finished\n"
     ]
    }
   ],
   "source": [
    "import threading\n",
    "\n",
    "# Define a function to be executed by the thread\n",
    "def print_numbers():\n",
    "    for i in range(5):\n",
    "        print(threading.current_thread().name, i)\n",
    "\n",
    "# Create a thread\n",
    "thread = threading.Thread(target=print_numbers)\n",
    "\n",
    "# Start the thread\n",
    "thread.start()\n",
    "\n",
    "# Wait for the thread to finish (optional)\n",
    "thread.join()\n",
    "\n",
    "print(\"Main thread finished\")\n"
   ]
  },
  {
   "cell_type": "markdown",
   "id": "03444636-66ee-4c0f-b49b-1158f50ef6b9",
   "metadata": {},
   "source": [
    "In this example, a new thread is created using the Thread class from the threading module. The target parameter specifies the function to be executed by the thread. The start() method starts the thread, and join() is used to wait for the thread to finish its execution (optional). The current_thread() function returns the current thread object, which we use to display the thread's name along with the numbers."
   ]
  },
  {
   "cell_type": "raw",
   "id": "475ef3d2-19b5-481f-a13c-c3a5c17f2c23",
   "metadata": {},
   "source": [
    "Q2) Why threading module used? Write the use of the following functions: \n",
    "1. activeCount()\n",
    "2.currentThread()\n",
    "3.enumerate()"
   ]
  },
  {
   "cell_type": "markdown",
   "id": "02b54fad-9f5b-4964-b0a3-1cdc4d8d15d1",
   "metadata": {},
   "source": [
    "The threading module in Python provides high-level interfaces for working with threads. It is used to create and manage threads in a program. Here's why the threading module is used:\n",
    "\n",
    "    Concurrency: The threading module enables concurrency in Python programs by allowing multiple threads to run concurrently, thus making better use of available CPU resources.\n",
    "\n",
    "    Responsiveness: In applications such as GUIs or servers, multithreading helps maintain responsiveness by allowing tasks like I/O operations or handling multiple client requests to be executed concurrently without blocking the main thread.\n",
    "\n",
    "    Parallelism (to a limited extent): Although Python's Global Interpreter Lock (GIL) prevents true parallel execution of multiple threads in CPython, the threading module can still provide benefits in certain scenarios, such as for I/O-bound tasks or using non-CPU-bound extensions like NumPy."
   ]
  },
  {
   "cell_type": "markdown",
   "id": "31d97f6c-9c3c-4269-8c4f-146b4568aeda",
   "metadata": {},
   "source": [
    "Now, let's discuss the use of the following functions in the threading module:\n",
    "\n",
    "    activeCount():\n",
    "        This function returns the number of Thread objects that are currently alive.\n",
    "        It can be useful for monitoring the number of active threads in a program."
   ]
  },
  {
   "cell_type": "code",
   "execution_count": 2,
   "id": "3d925824-1665-45fe-927e-e5631f157a91",
   "metadata": {},
   "outputs": [
    {
     "name": "stdout",
     "output_type": "stream",
     "text": [
      "Thread is running\n",
      "Thread is running\n",
      "Thread is running\n",
      "Thread is running\n",
      "Thread is running\n",
      "Number of active threads: 9\n"
     ]
    },
    {
     "name": "stderr",
     "output_type": "stream",
     "text": [
      "C:\\Users\\Saurav Tripathi\\AppData\\Local\\Temp\\ipykernel_1860\\897126081.py:11: DeprecationWarning: activeCount() is deprecated, use active_count() instead\n",
      "  print(\"Number of active threads:\", threading.activeCount())\n"
     ]
    }
   ],
   "source": [
    "import threading\n",
    "\n",
    "# Create and start some threads\n",
    "def my_function():\n",
    "    print(\"Thread is running\")\n",
    "\n",
    "for _ in range(5):\n",
    "    thread = threading.Thread(target=my_function)\n",
    "    thread.start()\n",
    "\n",
    "print(\"Number of active threads:\", threading.activeCount())\n"
   ]
  },
  {
   "cell_type": "markdown",
   "id": "d8863386-dee9-4397-9147-23df115dfc9b",
   "metadata": {},
   "source": [
    "currentThread():\n",
    "\n",
    "    This function returns the current Thread object representing the thread from which it is called.\n",
    "    It can be useful for obtaining information about the current thread, such as its name or identification."
   ]
  },
  {
   "cell_type": "code",
   "execution_count": 3,
   "id": "89266e72-e2a0-42e6-b2e7-c97a408944d4",
   "metadata": {},
   "outputs": [
    {
     "name": "stdout",
     "output_type": "stream",
     "text": [
      "Current thread: Thread 1\n",
      "Current thread: Thread 2\n"
     ]
    },
    {
     "name": "stderr",
     "output_type": "stream",
     "text": [
      "C:\\Users\\Saurav Tripathi\\AppData\\Local\\Temp\\ipykernel_1860\\1098736702.py:4: DeprecationWarning: currentThread() is deprecated, use current_thread() instead\n",
      "  print(\"Current thread:\", threading.currentThread().name)\n"
     ]
    }
   ],
   "source": [
    "import threading\n",
    "\n",
    "def my_function():\n",
    "    print(\"Current thread:\", threading.currentThread().name)\n",
    "\n",
    "thread1 = threading.Thread(target=my_function, name=\"Thread 1\")\n",
    "thread2 = threading.Thread(target=my_function, name=\"Thread 2\")\n",
    "\n",
    "thread1.start()\n",
    "thread2.start()\n"
   ]
  },
  {
   "cell_type": "markdown",
   "id": "5fea42b7-4f12-47e2-b36d-abc55b0c9f12",
   "metadata": {},
   "source": [
    "enumerate():\n",
    "\n",
    "    This function returns a list of all Thread objects currently alive.\n",
    "    It can be useful for iterating over all active threads and performing operations on them."
   ]
  },
  {
   "cell_type": "code",
   "execution_count": 4,
   "id": "fd133102-d88a-46fe-81e7-87c03169ebf8",
   "metadata": {},
   "outputs": [
    {
     "name": "stdout",
     "output_type": "stream",
     "text": [
      "Thread name: MainThread\n",
      "Thread name: Tornado selector\n",
      "Thread name: Tornado selector\n",
      "Thread name: IOPub\n",
      "Thread name: Heartbeat\n",
      "Thread name: Tornado selector\n",
      "Thread name: Control\n",
      "Thread name: IPythonHistorySavingThread\n",
      "Thread name: Thread-4\n"
     ]
    }
   ],
   "source": [
    "import threading\n",
    "\n",
    "def my_function():\n",
    "    pass\n",
    "\n",
    "threads = []\n",
    "\n",
    "for _ in range(3):\n",
    "    thread = threading.Thread(target=my_function)\n",
    "    threads.append(thread)\n",
    "    thread.start()\n",
    "\n",
    "for t in threading.enumerate():\n",
    "    print(\"Thread name:\", t.name)\n",
    "\n"
   ]
  },
  {
   "cell_type": "raw",
   "id": "1d6bc215-3a00-4e28-ac8f-09142b9d4f3e",
   "metadata": {},
   "source": [
    "Q3) Explain the following Functions: \n",
    "1) run()\n",
    "2) start() \n",
    "3) join()\n",
    "4) isAlive()"
   ]
  },
  {
   "cell_type": "markdown",
   "id": "b53885b8-0829-4bea-9629-b4812e36c91d",
   "metadata": {},
   "source": [
    "run():\n",
    "\n",
    "    The run() method is what actually gets executed when you start a thread using the start() method.\n",
    "    You should override this method in a subclass to define the code to be run by the thread.\n",
    "    By default, the run() method does nothing, so you need to subclass Thread and override this method with your own implementation."
   ]
  },
  {
   "cell_type": "code",
   "execution_count": 5,
   "id": "74341fdb-5bf6-45f4-84ff-22c560d4a3ff",
   "metadata": {},
   "outputs": [
    {
     "name": "stdout",
     "output_type": "stream",
     "text": [
      "Thread is running\n"
     ]
    }
   ],
   "source": [
    "import threading\n",
    "\n",
    "class MyThread(threading.Thread):\n",
    "    def run(self):\n",
    "        print(\"Thread is running\")\n",
    "\n",
    "thread = MyThread()\n",
    "thread.start()  # This will call the run() method\n"
   ]
  },
  {
   "cell_type": "markdown",
   "id": "5c21b3fe-aeaf-4a27-8c0b-4b9aacda908f",
   "metadata": {},
   "source": [
    "start():\n",
    "\n",
    "    The start() method is used to start a thread's activity.\n",
    "    It starts a new thread by calling the run() method internally.\n",
    "    After calling start(), the new thread begins execution and the control returns to the caller immediately."
   ]
  },
  {
   "cell_type": "code",
   "execution_count": 6,
   "id": "38b472be-f3ca-44fc-a320-dc9f26fd56cb",
   "metadata": {},
   "outputs": [
    {
     "name": "stdout",
     "output_type": "stream",
     "text": [
      "Thread is running\n"
     ]
    }
   ],
   "source": [
    "import threading\n",
    "\n",
    "def my_function():\n",
    "    print(\"Thread is running\")\n",
    "\n",
    "thread = threading.Thread(target=my_function)\n",
    "thread.start()  # Start the thread, which calls my_function()\n"
   ]
  },
  {
   "cell_type": "markdown",
   "id": "b5b9ee9d-dd18-49c3-bc45-0d1bcca36917",
   "metadata": {},
   "source": [
    "join():\n",
    "\n",
    "    The join() method is used to wait for the thread to complete its execution.\n",
    "    It blocks the calling thread until the thread whose join() method is called has finished executing.\n",
    "    This is useful for ensuring that the main thread doesn't proceed until all threads it has started have finished."
   ]
  },
  {
   "cell_type": "code",
   "execution_count": 7,
   "id": "a03b20b0-7a45-4132-b698-f3fef11cd4a0",
   "metadata": {},
   "outputs": [
    {
     "name": "stdout",
     "output_type": "stream",
     "text": [
      "Thread is running\n",
      "Thread has finished\n"
     ]
    }
   ],
   "source": [
    "import threading\n",
    "\n",
    "def my_function():\n",
    "    print(\"Thread is running\")\n",
    "\n",
    "thread = threading.Thread(target=my_function)\n",
    "thread.start()  # Start the thread\n",
    "thread.join()   # Wait for the thread to finish\n",
    "print(\"Thread has finished\")\n"
   ]
  },
  {
   "cell_type": "markdown",
   "id": "77f21713-ad8f-41c8-a1a7-5284fbcd367d",
   "metadata": {},
   "source": [
    "isAlive():\n",
    "\n",
    "    The isAlive() method returns True if the thread is currently executing, i.e., it hasn't finished yet.\n",
    "    It's a way to check whether a thread is still active or has completed its execution.\n",
    "    This can be used to check the status of a thread without blocking the caller."
   ]
  },
  {
   "cell_type": "code",
   "execution_count": 8,
   "id": "d2df325f-d11f-4b34-8550-b6842cf48311",
   "metadata": {},
   "outputs": [
    {
     "ename": "AttributeError",
     "evalue": "'Thread' object has no attribute 'isAlive'",
     "output_type": "error",
     "traceback": [
      "\u001b[1;31m---------------------------------------------------------------------------\u001b[0m",
      "\u001b[1;31mAttributeError\u001b[0m                            Traceback (most recent call last)",
      "Cell \u001b[1;32mIn[8], line 10\u001b[0m\n\u001b[0;32m      8\u001b[0m thread \u001b[38;5;241m=\u001b[39m threading\u001b[38;5;241m.\u001b[39mThread(target\u001b[38;5;241m=\u001b[39mmy_function)\n\u001b[0;32m      9\u001b[0m thread\u001b[38;5;241m.\u001b[39mstart()  \u001b[38;5;66;03m# Start the thread\u001b[39;00m\n\u001b[1;32m---> 10\u001b[0m \u001b[38;5;28mprint\u001b[39m(\u001b[38;5;124m\"\u001b[39m\u001b[38;5;124mIs thread alive?\u001b[39m\u001b[38;5;124m\"\u001b[39m, thread\u001b[38;5;241m.\u001b[39misAlive())\n",
      "\u001b[1;31mAttributeError\u001b[0m: 'Thread' object has no attribute 'isAlive'"
     ]
    },
    {
     "name": "stdout",
     "output_type": "stream",
     "text": [
      "Thread is running\n"
     ]
    }
   ],
   "source": [
    "import threading\n",
    "import time\n",
    "\n",
    "def my_function():\n",
    "    time.sleep(2)\n",
    "    print(\"Thread is running\")\n",
    "\n",
    "thread = threading.Thread(target=my_function)\n",
    "thread.start()  # Start the thread\n",
    "print(\"Is thread alive?\", thread.isAlive())  # Check if the thread is alive\n"
   ]
  },
  {
   "cell_type": "raw",
   "id": "e17f0227-0d0b-4fc0-9c77-fe802786a43d",
   "metadata": {},
   "source": [
    "Q4) Write a python program to create two threads. Thread one must print the list of squares and thread two must print the list of cubes."
   ]
  },
  {
   "cell_type": "code",
   "execution_count": 9,
   "id": "eed169e6-a11e-4fdf-a8e5-a69d36861d4f",
   "metadata": {},
   "outputs": [
    {
     "name": "stdout",
     "output_type": "stream",
     "text": [
      "Square of 1 is 1\n",
      "Square of 2 is 4\n",
      "Square of 3 is 9\n",
      "Square of 4 is 16\n",
      "Square of 5 is 25\n",
      "Cube of 1 is 1\n",
      "Cube of 2 is 8\n",
      "Cube of 3 is 27\n",
      "Cube of 4 is 64\n",
      "Cube of 5 is 125\n"
     ]
    }
   ],
   "source": [
    "import threading\n",
    "\n",
    "def print_squares(numbers):\n",
    "    for num in numbers:\n",
    "        print(\"Square of\", num, \"is\", num ** 2)\n",
    "\n",
    "def print_cubes(numbers):\n",
    "    for num in numbers:\n",
    "        print(\"Cube of\", num, \"is\", num ** 3)\n",
    "\n",
    "def main():\n",
    "    numbers = [1, 2, 3, 4, 5]\n",
    "\n",
    "    # Create threads\n",
    "    thread1 = threading.Thread(target=print_squares, args=(numbers,))\n",
    "    thread2 = threading.Thread(target=print_cubes, args=(numbers,))\n",
    "\n",
    "    # Start threads\n",
    "    thread1.start()\n",
    "    thread2.start()\n",
    "\n",
    "    # Wait for threads to finish\n",
    "    thread1.join()\n",
    "    thread2.join()\n",
    "\n",
    "if __name__ == \"__main__\":\n",
    "    main()\n"
   ]
  },
  {
   "cell_type": "markdown",
   "id": "8cf7041a-279d-4c91-9932-6e8e52c427cf",
   "metadata": {},
   "source": [
    "This program defines two functions, print_squares() and print_cubes(), each of which takes a list of numbers and prints their squares and cubes, respectively. Then, it creates two threads, one for each function, passing the same list of numbers as arguments. Finally, it starts both threads and waits for them to finish using the join() method. When you run this program, you should see output showing the squares and cubes of the numbers 1 through 5, printed concurrently by the two threads."
   ]
  },
  {
   "cell_type": "raw",
   "id": "46e64884-58f6-4236-9df1-c839f99d08d4",
   "metadata": {},
   "source": [
    "Q5) State advantages and disadvantages of multithreading."
   ]
  },
  {
   "cell_type": "markdown",
   "id": "4f8bed90-fa6c-4a8f-ac12-161d6162c06b",
   "metadata": {},
   "source": [
    "    Improved Responsiveness: Multithreading allows an application to remain responsive even when performing tasks that might otherwise block the main thread, such as I/O operations. This is especially useful in user interfaces and servers where responsiveness is critical.\n",
    "\n",
    "    Concurrency: Multithreading enables concurrent execution of tasks, which can lead to better resource utilization and increased throughput. Different parts of the program can execute simultaneously, utilizing multiple CPU cores efficiently.\n",
    "\n",
    "    Resource Sharing: Threads within the same process can share memory, allowing data to be easily exchanged between them without the need for complex communication mechanisms like inter-process communication (IPC).\n",
    "\n",
    "    Simplified Design: Multithreading can simplify the design of certain types of applications, such as servers, where multiple tasks need to be handled concurrently. Each task can be implemented as a separate thread, making the code easier to understand and maintain.\n",
    "\n",
    "    Efficient Utilization of CPU: In CPU-bound tasks, multithreading can take advantage of multiple CPU cores, potentially speeding up the execution of the program by running threads in parallel."
   ]
  },
  {
   "cell_type": "raw",
   "id": "74a263f3-8b5b-4ffc-ab36-efac7201f2f6",
   "metadata": {},
   "source": [
    "Q6) Explain deadlocks and race conditions"
   ]
  },
  {
   "cell_type": "markdown",
   "id": "6204cdcd-e7ef-4457-9b9e-352823936f38",
   "metadata": {},
   "source": [
    "Deadlocks:\n",
    "\n",
    "A deadlock is a situation in which two or more threads are unable to proceed because each is waiting for the other to release a resource, resulting in a cyclic dependency. Deadlocks can occur in multithreaded or multi-process environments where multiple threads or processes contend for shared resources."
   ]
  },
  {
   "cell_type": "code",
   "execution_count": 10,
   "id": "85f46bbf-138d-4f6a-b11b-5a28a56bfc8c",
   "metadata": {},
   "outputs": [
    {
     "name": "stdout",
     "output_type": "stream",
     "text": [
      "Thread 1 acquired lock 1\n",
      "Thread 1 acquired lock 2\n",
      "Thread 1 released lock 2\n",
      "Thread 1 released lock 1\n",
      "Thread 2 acquired lock 2\n",
      "Thread 2 acquired lock 1\n",
      "Thread 2 released lock 1\n",
      "Thread 2 released lock 2\n"
     ]
    }
   ],
   "source": [
    "import threading\n",
    "\n",
    "# Resources\n",
    "lock1 = threading.Lock()\n",
    "lock2 = threading.Lock()\n",
    "\n",
    "# Function to acquire locks in order\n",
    "def thread1_func():\n",
    "    lock1.acquire()\n",
    "    print(\"Thread 1 acquired lock 1\")\n",
    "    lock2.acquire()\n",
    "    print(\"Thread 1 acquired lock 2\")\n",
    "    lock2.release()\n",
    "    print(\"Thread 1 released lock 2\")\n",
    "    lock1.release()\n",
    "    print(\"Thread 1 released lock 1\")\n",
    "\n",
    "# Function to acquire locks in reverse order\n",
    "def thread2_func():\n",
    "    lock2.acquire()\n",
    "    print(\"Thread 2 acquired lock 2\")\n",
    "    lock1.acquire()\n",
    "    print(\"Thread 2 acquired lock 1\")\n",
    "    lock1.release()\n",
    "    print(\"Thread 2 released lock 1\")\n",
    "    lock2.release()\n",
    "    print(\"Thread 2 released lock 2\")\n",
    "\n",
    "# Create and start threads\n",
    "thread1 = threading.Thread(target=thread1_func)\n",
    "thread2 = threading.Thread(target=thread2_func)\n",
    "thread1.start()\n",
    "thread2.start()\n",
    "\n",
    "# Wait for threads to finish\n",
    "thread1.join()\n",
    "thread2.join()\n"
   ]
  },
  {
   "cell_type": "markdown",
   "id": "c1f68141-d26f-439d-a310-d449d6713e79",
   "metadata": {},
   "source": [
    "In this example, thread1 acquires lock1 first and then attempts to acquire lock2, while thread2 acquires lock2 first and then attempts to acquire lock1. Both threads end up waiting for each other to release the lock they need next, resulting in a deadlock."
   ]
  },
  {
   "cell_type": "markdown",
   "id": "a6769c0d-1819-4614-ba5f-c53e3cb727bd",
   "metadata": {},
   "source": [
    "Race Conditions:\n",
    "\n",
    "A race condition occurs when the outcome of a program depends on the relative timing of execution of multiple threads or processes. It arises when multiple threads access shared resources concurrently, and the final outcome depends on the order of execution. The term \"race\" comes from the idea that the threads are racing to access the shared resource first."
   ]
  },
  {
   "cell_type": "code",
   "execution_count": 11,
   "id": "a7a39f12-3251-4630-a82f-14bcf15612e9",
   "metadata": {},
   "outputs": [
    {
     "name": "stdout",
     "output_type": "stream",
     "text": [
      "Final counter value: 2000000\n"
     ]
    }
   ],
   "source": [
    "import threading\n",
    "\n",
    "# Shared variable\n",
    "counter = 0\n",
    "\n",
    "# Function to increment the counter\n",
    "def increment():\n",
    "    global counter\n",
    "    for _ in range(1000000):\n",
    "        counter += 1\n",
    "\n",
    "# Create and start threads\n",
    "thread1 = threading.Thread(target=increment)\n",
    "thread2 = threading.Thread(target=increment)\n",
    "thread1.start()\n",
    "thread2.start()\n",
    "\n",
    "# Wait for threads to finish\n",
    "thread1.join()\n",
    "thread2.join()\n",
    "\n",
    "# Print the final value of counter\n",
    "print(\"Final counter value:\", counter)\n"
   ]
  },
  {
   "cell_type": "markdown",
   "id": "8e2de51d-867e-4088-9e09-7d4ebcc84c5b",
   "metadata": {},
   "source": [
    "In this example, two threads increment the counter variable concurrently. However, since the counter += 1 operation is not atomic, the final value of counter depends on the interleaving of operations between the two threads. As a result, the final value of counter may not be what is expected (i.e., 2000000). This is a classic example of a race condition."
   ]
  }
 ],
 "metadata": {
  "kernelspec": {
   "display_name": "Python 3 (ipykernel)",
   "language": "python",
   "name": "python3"
  },
  "language_info": {
   "codemirror_mode": {
    "name": "ipython",
    "version": 3
   },
   "file_extension": ".py",
   "mimetype": "text/x-python",
   "name": "python",
   "nbconvert_exporter": "python",
   "pygments_lexer": "ipython3",
   "version": "3.11.7"
  }
 },
 "nbformat": 4,
 "nbformat_minor": 5
}
