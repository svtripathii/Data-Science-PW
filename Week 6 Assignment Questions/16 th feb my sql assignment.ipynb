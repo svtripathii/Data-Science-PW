{
 "cells": [
  {
   "cell_type": "markdown",
   "metadata": {},
   "source": [
    "Q1. What is a database? Differentiate between SQL and NoSQL databases."
   ]
  },
  {
   "cell_type": "markdown",
   "metadata": {},
   "source": [
    "\n",
    "What is a Database?\n",
    "A database is an organized collection of data, generally stored and accessed electronically from a computer system. Databases are structured to facilitate the storage, retrieval, modification, and deletion of data efficiently. They can store vast amounts of data and provide means for managing and querying this data in various ways.\n",
    "\n",
    "SQL vs. NoSQL Databases\n",
    "SQL (Structured Query Language) Databases:\n",
    "Structure: SQL databases are relational, which means they use a table-based structure to represent data and its relationships.\n",
    "Schema: They have a predefined schema, which means the structure of data (tables, rows, columns) must be defined before data can be added.\n",
    "ACID Compliance: SQL databases emphasize ACID (Atomicity, Consistency, Isolation, Durability) properties to ensure reliable transactions.\n",
    "Query Language: They use SQL for defining and manipulating the data. SQL is a powerful language standardized across many relational database management systems (RDBMS) like MySQL, PostgreSQL, Oracle Database, and Microsoft SQL Server.\n",
    "Scalability: SQL databases are typically vertically scalable, meaning they scale by increasing the capacity of a single server (e.g., adding more CPU, RAM, or storage).\n",
    "Examples: MySQL, PostgreSQL, SQLite, Oracle Database, Microsoft SQL Server.\n",
    "\n",
    "NoSQL (Not Only SQL) Databases:\n",
    "Structure: NoSQL databases are non-relational and can have various structures such as document-oriented, key-value pairs, wide-column stores, or graph databases.\n",
    "Schema: They often have a dynamic schema, allowing for the storage of unstructured or semi-structured data without a predefined schema.\n",
    "Eventual Consistency: NoSQL databases often prioritize scalability and availability over ACID compliance, offering eventual consistency instead.\n",
    "Query Language: They use different query languages depending on the type of NoSQL database. For instance, MongoDB uses a JSON-like query language, while Cassandra uses CQL (Cassandra Query Language).\n",
    "Scalability: NoSQL databases are designed to be horizontally scalable, meaning they scale by adding more servers to the distributed system.\n",
    "Examples: MongoDB (document-oriented), Cassandra (wide-column store), Redis (key-value store), Neo4j (graph database).\n",
    "\n",
    "Key Differences\n",
    "Data Model: SQL databases use a fixed schema and table-based model, while NoSQL databases use a flexible schema and various models (document, key-value, column, graph).\n",
    "Scalability: SQL databases are typically vertically scalable; NoSQL databases are horizontally scalable.\n",
    "Flexibility: NoSQL databases offer more flexibility for handling unstructured data, whereas SQL databases require structured data with defined schemas.\n",
    "Consistency: SQL databases prioritize ACID properties for consistent transactions; NoSQL databases often prioritize availability and partition tolerance, sometimes at the expense of immediate consistency.\n",
    "Use Cases: SQL databases are well-suited for complex queries and transactions, while NoSQL databases are preferred for large-scale data storage and real-time web applications where flexibility and speed are critical."
   ]
  },
  {
   "cell_type": "markdown",
   "metadata": {},
   "source": [
    "Q2. What is DDL? Explain why CREATE, DROP, ALTER, and TRUNCATE are used with an example."
   ]
  },
  {
   "cell_type": "markdown",
   "metadata": {},
   "source": [
    "DDL stands for Data Definition Language. It is a subset of SQL (Structured Query Language) used to define and manage database schema and structure. DDL commands are used to create, alter, and delete database objects such as tables, indexes, and views. Unlike DML (Data Manipulation Language), which deals with data manipulation, DDL deals with the schema and structure of the database.\n",
    "\n",
    "Key DDL Commands and Their Usage\n",
    "CREATE: The CREATE command is used to create new database objects such as tables, indexes, views, and databases.\n",
    "\n",
    "Example: Creating a new table named Employees."
   ]
  },
  {
   "cell_type": "markdown",
   "metadata": {},
   "source": [
    "CREATE TABLE Employees (\n",
    "    EmployeeID INT PRIMARY KEY,\n",
    "    FirstName VARCHAR(50),\n",
    "    LastName VARCHAR(50),\n",
    "    DateOfBirth DATE,\n",
    "    Department VARCHAR(50)\n",
    ");\n"
   ]
  },
  {
   "cell_type": "markdown",
   "metadata": {},
   "source": [
    "DROP: The DROP command is used to delete existing database objects such as tables, indexes, views, or entire databases. This operation is irreversible and removes the object and all the data it contains.\n",
    "\n",
    "Example: Dropping the Employees table."
   ]
  },
  {
   "cell_type": "markdown",
   "metadata": {},
   "source": [
    "DROP TABLE Employees;\n"
   ]
  },
  {
   "cell_type": "markdown",
   "metadata": {},
   "source": [
    "ALTER: The ALTER command is used to modify the structure of an existing database object. It can be used to add, delete, or modify columns in a table, change data types, rename columns, or even rename the table itself.\n",
    "\n",
    "Example: Adding a new column Email to the Employees table."
   ]
  },
  {
   "cell_type": "markdown",
   "metadata": {},
   "source": [
    "ALTER TABLE Employees\n",
    "ADD Email VARCHAR(100);\n"
   ]
  },
  {
   "cell_type": "markdown",
   "metadata": {},
   "source": [
    "TRUNCATE: The TRUNCATE command is used to remove all rows from a table, but the table structure remains intact for future use. It is faster than the DELETE command because it does not generate individual row delete statements and does not log individual row deletions.\n",
    "\n",
    "Example: Truncating the Employees table to remove all data."
   ]
  },
  {
   "cell_type": "markdown",
   "metadata": {},
   "source": [
    "TRUNCATE TABLE Employees;\n"
   ]
  },
  {
   "cell_type": "markdown",
   "metadata": {},
   "source": [
    "Q3. What is DML? Explain INSERT, UPDATE, and DELETE with an example."
   ]
  },
  {
   "cell_type": "markdown",
   "metadata": {},
   "source": [
    "DML stands for Data Manipulation Language. It is a subset of SQL (Structured Query Language) used to manipulate data stored in database objects such as tables. DML commands are used to insert, update, delete, and retrieve data from the database. Unlike DDL (Data Definition Language), which deals with the structure of the database, DML focuses on the actual data within the database.\n",
    "\n",
    "Key DML Commands and Their Usage\n",
    "INSERT: The INSERT command is used to add new rows of data to a table.\n",
    "\n",
    "Example: Inserting a new employee into the Employees table."
   ]
  },
  {
   "cell_type": "markdown",
   "metadata": {},
   "source": [
    "INSERT INTO Employees (EmployeeID, FirstName, LastName, DateOfBirth, Department, Email)\n",
    "VALUES (1, 'John', 'Doe', '1990-01-01', 'HR', 'john.doe@example.com');\n"
   ]
  },
  {
   "cell_type": "markdown",
   "metadata": {},
   "source": [
    "UPDATE: The UPDATE command is used to modify existing data in a table. It allows you to change the values of one or more columns for a specified set of rows.\n",
    "\n",
    "Example: Updating the Department of the employee with EmployeeID 1."
   ]
  },
  {
   "cell_type": "markdown",
   "metadata": {},
   "source": [
    "UPDATE Employees\n",
    "SET Department = 'Finance'\n",
    "WHERE EmployeeID = 1;\n"
   ]
  },
  {
   "cell_type": "markdown",
   "metadata": {},
   "source": [
    "DELETE: The DELETE command is used to remove rows of data from a table. It allows you to specify which rows should be removed based on a condition.\n",
    "\n",
    "Example: Deleting the employee with EmployeeID 1 from the Employees table."
   ]
  },
  {
   "cell_type": "markdown",
   "metadata": {},
   "source": [
    "DELETE FROM Employees\n",
    "WHERE EmployeeID = 1;\n"
   ]
  },
  {
   "cell_type": "markdown",
   "metadata": {},
   "source": [
    "Q4. What is DQL? Explain SELECT with an example."
   ]
  },
  {
   "cell_type": "markdown",
   "metadata": {},
   "source": [
    "DQL stands for Data Query Language. It's a specific part of a larger language, typically a Structured Query Language (SQL), that allows you to retrieve data from a database. DQL statements focus on fetching and organizing information  without modifying it.\n",
    "\n",
    "SELECT is the fundamental command within DQL. It lets you extract specific data from a database table. Here's an example:\n",
    "\n",
    "Imagine a table named \"Customers\" with columns for \"CustomerID,\" \"CustomerName,\" and \"City.\" You can use the following SELECT statement to retrieve all customer names and their corresponding cities:"
   ]
  },
  {
   "cell_type": "markdown",
   "metadata": {},
   "source": [
    "SELECT CustomerName, City FROM Customers;\n"
   ]
  },
  {
   "cell_type": "markdown",
   "metadata": {},
   "source": [
    "Q5. Explain Primary Key and Foreign Key."
   ]
  },
  {
   "cell_type": "markdown",
   "metadata": {},
   "source": [
    "Primary keys and foreign keys are both crucial concepts in relational database design. They work together to ensure data integrity and establish relationships between different tables.\n",
    "\n",
    "Primary Key:\n",
    "\n",
    "A primary key is a column (or a set of columns) within a table that uniquely identifies each row.\n",
    "No two rows can have the same value for the primary key. This enforces uniqueness and prevents duplicate data within the table.\n",
    "Primary keys are essential for efficient data retrieval and manipulation. They often act as an indexing point for faster searches.\n",
    "Foreign Key:\n",
    "\n",
    "A foreign key is a column (or set of columns) in one table that references the primary key of another table.\n",
    "It creates a link between the two tables, establishing a relationship between the data they contain.\n",
    "Foreign keys help maintain data consistency by ensuring the referenced data in the other table actually exists.\n",
    "For instance, imagine a \"Orders\" table with a \"CustomerID\" foreign key referencing the \"CustomerID\" primary key in a \"Customers\" table. This ensures that every order in the \"Orders\" table belongs to a valid customer present in the \"Customers\" table."
   ]
  },
  {
   "cell_type": "markdown",
   "metadata": {},
   "source": [
    "Q6. Write a python code to connect MySQL to python. Explain the cursor() and execute() method."
   ]
  },
  {
   "cell_type": "markdown",
   "metadata": {},
   "source": [
    "import mysql.connector\n",
    "\n",
    "Database connection credentials (replace with your actual details)\n",
    "hostname = \"localhost\"\n",
    "username = \"your_username\"\n",
    "password = \"your_password\"\n",
    "database = \"your_database\"\n",
    "\n",
    "Connect to MySQL database\n",
    "try:\n",
    "  mydb = mysql.connector.connect(\n",
    "      host=hostname, user=username, password=password, database=database\n",
    "  )\n",
    "  print(\"MySQL connection established successfully!\")\n",
    "\n",
    "except mysql.connector.Error as err:\n",
    "  print(f\"Connection error: {err}\")\n",
    "  exit()\n",
    "\n",
    "Create a cursor object\n",
    "mycursor = mydb.cursor()\n",
    "\n",
    "Sample query to select all data from a table named \"Customers\"\n",
    "query = \"SELECT * FROM Customers\"\n",
    "\n",
    "Execute the query\n",
    "mycursor.execute(query)\n",
    "\n",
    "Fetch the results (replace with how you want to process the data)\n",
    "myresult = mycursor.fetchall()  # Fetches all rows\n",
    "for row in myresult:\n",
    "#print(row)\n",
    "\n",
    "Close the cursor and connection\n",
    "mycursor.close()\n",
    "mydb.close()\n",
    "\n",
    "print(\"Connection and cursor closed.\")\n"
   ]
  },
  {
   "cell_type": "markdown",
   "metadata": {},
   "source": [
    "Q7. Give the order of execution of SQL clauses in an SQL query."
   ]
  },
  {
   "cell_type": "markdown",
   "metadata": {},
   "source": [
    "SQL queries follow a specific order of execution for their clauses, which is crucial to understanding how the database processes your request. Here's the order of execution:\n",
    "\n",
    "FROM & JOINs:\n",
    "\n",
    "The FROM clause specifies the tables involved in the query.\n",
    "If joins are present (like INNER JOIN, LEFT JOIN), they are executed first to combine data from multiple tables based on the join conditions. This establishes the initial dataset for further operations.\n",
    "WHERE:\n",
    "\n",
    "The WHERE clause filters the data retrieved from the FROM clause based on the specified conditions. Rows that don't meet the WHERE clause criteria are discarded.\n",
    "GROUP BY:\n",
    "\n",
    "The GROUP BY clause groups rows together based on shared values in one or more columns. This is typically used in conjunction with aggregate functions (like SUM, COUNT, AVG) to perform calculations on the grouped data.\n",
    "HAVING:\n",
    "\n",
    "The HAVING clause acts like a filter for grouped data created by GROUP BY. It allows you to filter groups based on conditions applied to aggregate functions or column values within the groups.\n",
    "SELECT:\n",
    "\n",
    "The SELECT clause determines the final set of columns to be retrieved from the processed data. You can specify columns from the original tables or expressions involving calculations.\n",
    "DISTINCT (Optional):\n",
    "\n",
    "The DISTINCT keyword, if present after SELECT, eliminates duplicate rows from the result set.\n",
    "ORDER BY:\n",
    "\n",
    "The ORDER BY clause sorts the final result set based on the specified columns in ascending or descending order.\n",
    "LIMIT/OFFSET (Optional):\n",
    "\n",
    "LIMIT restricts the number of rows returned in the final result set.\n",
    "OFFSET specifies the number of rows to skip before starting to return results. These are typically used for pagination."
   ]
  },
  {
   "cell_type": "markdown",
   "metadata": {},
   "source": []
  }
 ],
 "metadata": {
  "language_info": {
   "name": "python"
  }
 },
 "nbformat": 4,
 "nbformat_minor": 2
}
